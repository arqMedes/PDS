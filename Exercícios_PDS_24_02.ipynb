{
  "nbformat": 4,
  "nbformat_minor": 0,
  "metadata": {
    "colab": {
      "provenance": [],
      "authorship_tag": "ABX9TyOYH1EAXNlAGSSrvphn4FKH"
    },
    "kernelspec": {
      "name": "python3",
      "display_name": "Python 3"
    },
    "language_info": {
      "name": "python"
    }
  },
  "cells": [
    {
      "cell_type": "markdown",
      "source": [
        "\n",
        "**TÓPICO 1:** Sistemas Lineares Invariantes no tempo\n",
        "\n",
        "**1) Desenhe o gráfico de y[n] a partir dos dados da Figura 1. Considere que x[n e h[n] são iguais a zero para n < 0 e para n>1.**\n",
        "\n",
        "\n",
        "![](https://github.com/arqMedes/images/blob/main/conv_01.jpg?raw=true)\n",
        "\n",
        "*Solução:*\n",
        "\n",
        "$x[n]=[\\underline{2} , 1]$ e $h[n]=[\\underline{1}, 1]$\n",
        "\n",
        "$y[n]=\\sum_{k=-\\infty}^∞x[k]h[n-k]$\n",
        "\n",
        "$y[n]=\\sum_{k=0}^1x[k]h[n-k]$\n",
        "\n",
        "$y[n]= x[0]h[n] + x[1]h[n-1]$\n",
        "\n",
        "$y[n]= 2h[n] + h[n-1]$\n",
        "\n",
        "$y[n]=[\\underline{2} ,3,  1]$\n",
        "\n",
        "**2) Determine o período fundamental do sinal $x[n]=1 + e^{j4\\pi/7n}- e^{j2\\pi/5n}$**\n",
        "\n",
        "*Solução:*\n",
        "\n",
        "*Tem-se uma componente CC do sinal que não altera o período. E, separadamente, tem-se:*\n",
        "\n",
        "$2\\pi/N_1=4\\pi/7 ⇒ N_1=14$ e, $2\\pi/N_2=2\\pi/5 ⇒ N_2=5$. O perído resultante do sinal é dado pelo\n",
        "\n",
        "$N=mmc(N_1,N_2) = 70$"
      ],
      "metadata": {
        "id": "8dEb4t_X5LGu"
      }
    },
    {
      "cell_type": "markdown",
      "source": [
        "**TÓPICO 2:** Transformada-Z\n",
        "\n",
        "**3) Um sistema linear, discreto, causal e invariante no tempo tem a sua dinâmica modelada pela seguinte equação diferença**\n",
        "\n",
        "$y[n-2]-6y[n-1]+8y[n]=8x[n]$.\n",
        "\n",
        "**Qual a expressão da função de transferência $H(z) =Y(z)/X(z)$?**\n",
        "\n",
        "*Solução:*\n",
        "\n",
        "*Aplica-se a Transformada-Z em ambos membros da equação e utiliza-se da Propriedade Transformada do Sinal Deslocado no Tempo:*\n",
        "\n",
        "$z^{-2}Y(z)- 6z^{-1}Y(z)+8Y(z)=8X(z)$\n",
        "\n",
        "$(z^{-2}- 6z^{-1}+8)Y(z)=8X(z)$\n",
        "\n",
        "$H(z) =Y(z)/X(z)= \\frac{8}{z^{-2}- 6z^{-1}+8}$\n",
        "\n",
        "\n",
        "\n",
        "\n",
        "\n",
        "\n",
        "**4) Encontre a equação diferença das seguintes funções de Sistemas.**\n",
        "\n",
        "(a) $H(z)=\\frac{2z^{-2}- z^{-3}}{1 + 2z^{-1}-4z^{-2}}$\n",
        "\n",
        "(b) $H(z)=\\frac{4 - 2z^{-1}+ z^{-3}}{1 -6z^{-2}}$\n",
        "\n",
        "*Solução: Sabe-se que H(z) =Y(z)/X(z), multiplicando cruzado tem-se:*\n",
        "\n",
        "$(a) \\ \\ Y(z)(1 + 2z^{-1}-4z^{-2})= X(z)(2z^{-2}- z^{-3})$\n",
        "\n",
        "*Passando para o domínio do tempo e usando a propriedade do deslocamento:* $Z \\{x[n-m] \\} ⇌ z^{-m}X(z)$\n",
        "\n",
        "$y[n]+2y[n-1]-4y[n-2]=2x[n-2]-x[n-3]$\n",
        "\n",
        "$(b) \\ \\ Y(z)(4 - 2z^{-1}+ z^{-3})= X(z)(1 -6z^{-2})$\n",
        "\n",
        "$4y[n]-2y[n-1]+y[n-3]=x[n]-6x[n-2]$"
      ],
      "metadata": {
        "id": "0VoB2Rks9_VE"
      }
    },
    {
      "cell_type": "markdown",
      "source": [
        "**TÓPICO 3:** Série e Transformada de Fourier\n",
        "\n",
        "**5) Encontre o espectro frequência $X[k]$ do sinal $x[n] = 2cos(n\\pi/2),\\ para \\ -6 < k < 6$.**\n",
        "\n",
        "<p>\n",
        "<em>\n",
        "Solução:\n",
        "\n",
        "$x[n] = 2 \\{\\frac{e^{jw_0n}+e^{-jw_0n}}{2} \\}= e^{jw_0n}+e^{-jw_0n}$ Eq.1\n",
        "\n",
        "$w_0=\\frac{\\pi}{2}=\\frac{2\\pi}{N} \\implies N= 4$\n",
        "\n",
        "Da equação 1, tem-se os seguintes coeficientes:\n",
        "\n",
        "$a_1=1=a_5=a_{-3}$ e,\n",
        "\n",
        "$ a_{-1}=1=a_{-5}=a_3$ . Além disso,\n",
        "\n",
        "$a_0=0=a_4 \\ , a_2=0=a_6$\n",
        "</em>\n",
        "</p>\n",
        "\n",
        "\n",
        "**6) Qual a relação entre a DTFT e a DFT?**\n",
        "\n",
        "*Solução:*\n",
        "\n",
        "<p>\n",
        "<em>\n",
        "A Transformada de Fourier em Tempo Discreto (DTFT) é a base para o cálculo da Transformada Discreta de Fourier (DFT). A DFT é uma extensão da DTFT para sinais discretos e periódicos no tempo.\\\n",
        "</em>\n",
        "</p>\n",
        "\n",
        "### *Relação entre DTFT e DFT*\n",
        "\n",
        "<p>\n",
        "<em>\n",
        "\n",
        "\n",
        "*   A DTFT é definida para uma sequência infinita, enquanto a DFT é definida para sequências finitas\n",
        "*   A DTFT tem uma saída contínua, enquanto a DFT é discreta.\n",
        "* A DFT é calculada numericamente a partir da amostragem da DTFT no domínio da frequência.\n",
        "* A DFT é útil para analisar sinais que não são periódicos por natureza, como sinais de fala ou sinais biomédicos.\n",
        "</em>\n",
        "</p>\n",
        "\n",
        "\n",
        "**7) Encontre a DFT de $x[n] = [3, 2, 3]$.**\n",
        "\n",
        "*Solução*\n",
        "\n",
        "$X[k] = \\sum_{k=0}^2x[n]W_3^{-nk}n$ onde $W_3^{-1}=-\\frac{1}{2}-j\\frac{\\sqrt{3}}{2}$\n",
        "\n",
        "\n",
        "$$\n",
        "\\begin{array}{|c|c|} \\hline\n",
        "1 & -\\frac{1}{2}-j\\frac{\\sqrt{3}}{2} &-\\frac{1}{2}+j\\frac{\\sqrt{3}}{2} \\\\ \\hline\n",
        "W_3^0 & W_3^1 & W_3^2  \\\\\n",
        "W_3^3 & W_3^4 & W_3^5   \\\\\n",
        "W_3^6 & W_3^7 & W_3^8   \\\\ \\hline\n",
        "\\end{array} \\\\\n",
        "X[k] =   x[0]W_3^0 + x[1]W_3^k + x[2]W_3^{2k} \\\\\n",
        "X[k] =   x[0] + x[1]W_3^k + x[2]W_3^{2k}\n",
        "$$\n",
        "\n",
        "$X[0]= x[0] + x[1] + x[2]  =8$\n",
        "\n",
        "$X[1]= x[0] + x[1]W_3^1 + x[2]W_3^2 = 3 + 2(-\\frac{1}{2}-j\\frac{\\sqrt{3}}{2}) + 3(-\\frac{1}{2}+j\\frac{\\sqrt{3}}{2})=\\frac{1}{2}+j\\frac{\\sqrt{3}}{2}$\n",
        "\n",
        "$X[2]= x[0] + x[1]W_3^2 + x[2]W_3^4 = 3 + 2(-\\frac{1}{2}+j\\frac{\\sqrt{3}}{2}) + 3(-\\frac{1}{2}-j\\frac{\\sqrt{3}}{2})=\\frac{1}{2}-j\\frac{\\sqrt{3}}{2}$\n"
      ],
      "metadata": {
        "id": "Qu2mQv0CaiF5"
      }
    },
    {
      "cell_type": "code",
      "source": [
        "import numpy as np\n",
        "N = 3\n",
        "x = np.array([3, 2, 3])\n",
        "W_N= np.exp(-1.j*2*np.pi/N)\n",
        "\n",
        "print(W_N)\n",
        "print(W_N*W_N)\n",
        "print(np.fft.fft(x))\n",
        "\n",
        "\n"
      ],
      "metadata": {
        "colab": {
          "base_uri": "https://localhost:8080/"
        },
        "id": "doesV0yevjc3",
        "outputId": "d6ee8ef7-6608-40b5-e137-df2b2c894d96"
      },
      "execution_count": null,
      "outputs": [
        {
          "output_type": "stream",
          "name": "stdout",
          "text": [
            "(-0.4999999999999998-0.8660254037844387j)\n",
            "(-0.5000000000000003+0.8660254037844384j)\n",
            "[8. +0.j        0.5+0.8660254j 0.5-0.8660254j]\n"
          ]
        }
      ]
    },
    {
      "cell_type": "code",
      "execution_count": null,
      "metadata": {
        "colab": {
          "base_uri": "https://localhost:8080/",
          "height": 447
        },
        "id": "xPxhw_595KLM",
        "outputId": "e5f22c06-a63f-4393-d5e3-a9afe18458e0"
      },
      "outputs": [
        {
          "output_type": "stream",
          "name": "stdout",
          "text": [
            "[0. 0. 0. 0. 2. 3. 1. 0. 0. 0. 0. 0. 0.]\n"
          ]
        },
        {
          "output_type": "display_data",
          "data": {
            "text/plain": [
              "<Figure size 640x480 with 3 Axes>"
            ],
            "image/png": "[encoded data removed]"
          },
          "metadata": {}
        }
      ],
      "source": [
        "import numpy as np\n",
        "import matplotlib.pyplot as plt\n",
        "\n",
        "n = np.arange(-2, 5)\n",
        "x = np.zeros(n.shape)\n",
        "h = np.zeros(n.shape)\n",
        "x[n==0]=2\n",
        "x[n==1] = h[n==0]=h[n==1] = 1\n",
        "plt.subplot(3,1,1)\n",
        "plt.stem(n, x)\n",
        "plt.grid(visible=True, which=\"major\", color=\"lightblue\", linestyle=\"solid\",\n",
        "        linewidth=0.5)\n",
        "plt.grid(visible=True, which=\"minor\", color=\"lightgray\", linestyle=\"solid\",\n",
        "        linewidth=0.3)\n",
        "plt.subplot(3,1,2)\n",
        "plt.stem(n, h)\n",
        "y = np.convolve(x, h)\n",
        "plt.subplot(3,1,3)\n",
        "plt.stem(n, y[:n.size])\n",
        "print(y)"
      ]
    },
    {
      "cell_type": "code",
      "source": [
        "import numpy as np\n",
        "import matplotlib.pyplot as plt\n",
        "\n",
        "h = np.array([0, .5, .5])\n",
        "x = np.array([.5, -.5, 3, -1])\n",
        "y = np.convolve(x, h)\n",
        "print(x, h)\n",
        "print(y)"
      ],
      "metadata": {
        "colab": {
          "base_uri": "https://localhost:8080/"
        },
        "id": "qndqvwcp3WB7",
        "outputId": "4fc969c5-d415-4727-b381-75c7cf52c2b3"
      },
      "execution_count": null,
      "outputs": [
        {
          "output_type": "stream",
          "name": "stdout",
          "text": [
            "[ 0.5 -0.5  3.  -1. ] [0.  0.5 0.5]\n",
            "[ 0.    0.25  0.    1.25  1.   -0.5 ]\n"
          ]
        }
      ]
    },
    {
      "cell_type": "code",
      "source": [
        "h = np.array([1, 1])\n",
        "x = np.array([2, 1])\n",
        "y = np.convolve(x, h)\n",
        "print(x, h)\n",
        "print(y)"
      ],
      "metadata": {
        "id": "Fp7s_x_EFboE",
        "colab": {
          "base_uri": "https://localhost:8080/"
        },
        "outputId": "1633bd7e-215e-40f0-8e49-2fc8381ef93a"
      },
      "execution_count": null,
      "outputs": [
        {
          "output_type": "stream",
          "name": "stdout",
          "text": [
            "[2 1] [1 1]\n",
            "[2 3 1]\n"
          ]
        }
      ]
    },
    {
      "cell_type": "code",
      "source": [],
      "metadata": {
        "id": "18LbdijPOIpj"
      },
      "execution_count": null,
      "outputs": []
    }
  ]
}