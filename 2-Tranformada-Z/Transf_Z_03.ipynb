{
  "nbformat": 4,
  "nbformat_minor": 0,
  "metadata": {
    "colab": {
      "provenance": [],
      "authorship_tag": "ABX9TyN3hpK9Jia6S7jCDxOTmLoM",
      "include_colab_link": true
    },
    "kernelspec": {
      "name": "python3",
      "display_name": "Python 3"
    },
    "language_info": {
      "name": "python"
    }
  },
  "cells": [
    {
      "cell_type": "markdown",
      "metadata": {
        "id": "view-in-github",
        "colab_type": "text"
      },
      "source": [
        "<a href=\"https://colab.research.google.com/github/arqMedes/PDS/blob/main/2-Tranformada-Z/Transf_Z_03.ipynb\" target=\"_parent\"><img src=\"https://colab.research.google.com/assets/colab-badge.svg\" alt=\"Open In Colab\"/></a>"
      ]
    },
    {
      "cell_type": "markdown",
      "source": [
        "COMPONENTES DE ENTRADA NULA E ESTADO NULO\n",
        "\n",
        "No Exemplo 5.5, determinamos a solução total da equação diferença. É relativamente simples separar a solução\n",
        "em componentes de entrada nula e estado nulo. Tudo o que precisamos fazer é separar a resposta em termos que\n",
        "aparecem em função da entrada e termos que aparecem em função das condições iniciais. Podemos separar a\n",
        "resposta da Eq. (5.26b) como mostrado a seguir:\n",
        "\n",
        "Resposta de Estado Nulo de Sistemas LDIT: A Função de Transferência\n",
        "\n",
        "Considere um sistema LDIT de ordem N especificado pela equação diferença\n",
        "(5\n",
        "\n",
        "![](https://github.com/arqMedes/images/blob/main/Figura5-6.png?raw=true)\n",
        "\n",
        "Estabilidade\n",
        "\n",
        "A Eq. (5.34) mostra que o denominador de H[z] é Q[z], o qual é aparentemente idêntico ao polinômio característico Q[γ], definido no Capítulo 3. Isso significa que o denominador de H[z] é o polinômio característico do\n",
        "sistema? Pode ou não ser o caso. Se P[z] e Q[z] na Eq. (5.34) possuírem qualquer fator comum, eles irão se cancelar e o denominador efetivo de H[z] não será necessariamente igual a Q[z]. Lembre-se que a função de transferência H[z], tal como h[n], é definida em termos de descrições externas do sistema. Por outro lado, o polinô-\n",
        "mio Q[z] é uma descrição interna. Obviamente, podemos determinar apenas a estabilidade externa de H[z], ou\n",
        "seja, a estabilidade BIBO. Se todos os pólos de H[z] estiverem dentro do círculo unitário, todos os termos em\n",
        "h[z] são exponenciais decrescentes e, como mostrado na Seção 3.10, h[n] será absolutamente somável. Conseqüentemente, o sistema será BIBO estável. Caso contrário, o sistema será BIBO instável\n",
        "\n"
      ],
      "metadata": {
        "id": "53h8CUAq20Mg"
      }
    },
    {
      "cell_type": "code",
      "execution_count": null,
      "metadata": {
        "id": "paPbipce13MP"
      },
      "outputs": [],
      "source": []
    }
  ]
}