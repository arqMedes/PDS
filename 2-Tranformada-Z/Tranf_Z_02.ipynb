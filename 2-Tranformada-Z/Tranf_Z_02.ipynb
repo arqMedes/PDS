{
  "nbformat": 4,
  "nbformat_minor": 0,
  "metadata": {
    "colab": {
      "provenance": [],
      "authorship_tag": "ABX9TyO/Gl9onEEWmhtjDAFfrOyz",
      "include_colab_link": true
    },
    "kernelspec": {
      "name": "python3",
      "display_name": "Python 3"
    },
    "language_info": {
      "name": "python"
    }
  },
  "cells": [
    {
      "cell_type": "markdown",
      "metadata": {
        "id": "view-in-github",
        "colab_type": "text"
      },
      "source": [
        "<a href=\"https://colab.research.google.com/github/arqMedes/PDS/blob/main/2-Tranformada-Z/Tranf_Z_02.ipynb\" target=\"_parent\"><img src=\"https://colab.research.google.com/assets/colab-badge.svg\" alt=\"Open In Colab\"/></a>"
      ]
    },
    {
      "cell_type": "markdown",
      "source": [
        "# Determinação da Transformada Inversa\n",
        "\n",
        "Tal como na transformada de Laplace, podemos evitar a integração no plano complexo, necessária para determinar a transformada z inversa [Eq. (5.2)], usando a tabela de transformadas (unilateral), Tabela 5.1. Muitas das transformadas X[z] de interesse prático são funções racionais (razão de polinômios em z), as quais podem ser expressas como a soma de frações parciais, cuja transformada inversa pode ser facilmente encontrada na tabela de transformação. O método de frações parciais funciona porque a cada x[n] transformado, definido para n ≥ 0, existe um único X[z] correspondente, definido para |z| > r0 (na qual r0 é alguma constante) e\n",
        "vice-versa.\n",
        "\n",
        "ALGUMAS PROPRIEDADES DA TRANSFORMADA Z\n",
        "\n",
        "As propriedades da transformada z são úteis na determinação das transformadas de várias funções e também na\n",
        "solução de equações diferença, lineares, com coeficientes constantes. Nesta seção, iremos considerar algumas\n",
        "poucas importantes propriedades da transformada z.\n",
        "Em nossa discussão, a variável n que aparece em sinais, tal como x[n] e y[n], pode ou não significar tempo.\n",
        "Entretanto, na maioria das aplicações de nosso interesse, n é proporcional ao tempo. Por essa razão, iremos nos\n",
        "referir à variável n como sendo tempo.\n",
        "Na discussão a seguir sobre a propriedade de deslocamento, iremos trabalhar com sinais deslocados x[n]u[n],\n",
        "x[n – k]u[n – k], x[n – k]u[n]. A não ser que entendamos fisicamente o significado de tais deslocamentos, nosso\n",
        "entendimento da propriedade de deslocamento será mecânico, em vez de intuitivo ou heurístico. Por essa razão,\n",
        "usando um sinal hipotético x[n], ilustramos vários sinais deslocados por k = 1 na Fig. 5.4.\n",
        "\n",
        "Exemplo 5.4\n",
        "\n",
        "![](https://github.com/arqMedes/images/blob/main/Tabela4-2.png?raw=true)\n",
        "\n",
        "SOLUÇÃO DE EQUAÇÕES DIFERENÇA LINEARES PELA TRANSFORMADA Z\n",
        "\n",
        "\n",
        "A propriedade de deslocamento no tempo (deslocamento à direita ou esquerda) possibilitou a resolução de equa-\n",
        "ções diferença lineares com coeficientes constantes. Tal como no caso da transformada de Laplace com equações\n",
        "diferenciais, a transformada z converte equações diferença em equações algébricas que podem ser facilmente resolvidas obtendo-se uma solução no domínio z. Determinando-se a transformada z inversa da solução no domínio\n",
        "z obtém-se a solução desejada no domínio do tempo. Os seguintes exemplos demonstram esse procedimento."
      ],
      "metadata": {
        "id": "cUV_fJ_FC4zc"
      }
    },
    {
      "cell_type": "markdown",
      "source": [
        "## Exemplo 5.5\n",
        "\n",
        "Resolva $y[n+2] - 5y[n+1] + 6y[n] = 3x[n+1] +5x[n]$ (5.24)\n",
        "\n",
        "se as condições iniciais forem $y[–1] = 11/6$, $y[–2] = 37/36$ e a entrada for $x[n] = (2)^{–n}u[n]$\n",
        "\n",
        "*Solução*\n",
        "\n",
        "Devido as condições iniciais, melhor reescrever a Eq. 5.24 na forma de atraso $(n ← n-2)$\n",
        "\n",
        " $y[n] - 5y[n-1] + 6y[n-2] = 3x[n-1] +5x[n-2]$ (5.25)\n",
        "\n",
        " Da Tabela 4.2\n",
        "\n",
        " $$\n",
        " y[n]u[n] ⟷ Y(z) \\\\\n",
        " y[n-1]u[n] ⟷ \\frac{1}{z}Y(z) + y[-1] \\\\\n",
        " y[n-2]u[n] ⟷ \\frac{1}{z^2}Y(z) + \\frac{1}{z}y[-1] + y[-2] \\\\\n",
        " $$"
      ],
      "metadata": {
        "id": "9xRQn-mYhl3A"
      }
    },
    {
      "cell_type": "code",
      "source": [
        "import scipy.signal as sgn\n",
        "import numpy as np"
      ],
      "metadata": {
        "id": "K7Kt8uXhs6fc"
      },
      "execution_count": null,
      "outputs": []
    },
    {
      "cell_type": "code",
      "execution_count": null,
      "metadata": {
        "id": "AC5PEAzV1wbL",
        "colab": {
          "base_uri": "https://localhost:8080/"
        },
        "outputId": "063b205f-63fa-421e-f86c-a2d081755fb9"
      },
      "outputs": [
        {
          "output_type": "stream",
          "name": "stdout",
          "text": [
            "[ 1.73333333 -2.33333333  3.6       ] [0.5 2.  3. ] []\n"
          ]
        }
      ],
      "source": [
        "num = [3, -9.5, 10.5]\n",
        "den = np.polymul([1, -0.5],[1, -5, 6])\n",
        "\n",
        "[r,p,k] = sgn.residue(num, den)\n",
        "print(r, p, k)"
      ]
    },
    {
      "cell_type": "code",
      "source": [],
      "metadata": {
        "id": "HIP5QOdTwIBZ"
      },
      "execution_count": null,
      "outputs": []
    }
  ]
}