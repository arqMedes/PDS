{
  "nbformat": 4,
  "nbformat_minor": 0,
  "metadata": {
    "colab": {
      "provenance": [],
      "authorship_tag": "ABX9TyNzBMiFCZ1u56KRGSnHE36R",
      "include_colab_link": true
    },
    "kernelspec": {
      "name": "python3",
      "display_name": "Python 3"
    },
    "language_info": {
      "name": "python"
    }
  },
  "cells": [
    {
      "cell_type": "markdown",
      "metadata": {
        "id": "view-in-github",
        "colab_type": "text"
      },
      "source": [
        "<a href=\"https://colab.research.google.com/github/arqMedes/PDS/blob/main/2-Tranformada-Z/Tranf_Z_01.ipynb\" target=\"_parent\"><img src=\"https://colab.research.google.com/assets/colab-badge.svg\" alt=\"Open In Colab\"/></a>"
      ]
    },
    {
      "cell_type": "markdown",
      "source": [
        "# Transformada Z\n",
        "\n",
        "INTRODUÇÃO\n",
        "\n",
        "A contrapartida da transformada de Laplace para sistemas em tempo discreto é a transformada z. A transformada de Laplace converte equações integro-diferenciais em equações algébricas. Da mesma forma, a transformada z muda equações diferença para equações algébricas, simplificando, pois, a análise de sistemas em tempo discreto.\n",
        "\n",
        "O método da transformada z para a análise de sistemas em tempo discreto é equivalente ao método da\n",
        "transformada de Laplace para a análise de sistemas em tempo contínuo, com algumas pequenas diferenças. Veremos que a transformada z é a transformada de Laplace disfarçada.\n",
        "\n",
        "DEFINIÇÃO\n",
        "$$\n",
        "X(z) = \\sum_{n=-\\infty}^{\\infty}x[n]z^{-n} \\\\\n",
        "X(z) =... + x[-2]z^2+x[-1]z+x[0]+x[1]z^{-1} +x[2]z^{-2}+...\n",
        "$$\n",
        "\n",
        "PROPRIEDADES E REGIÃO DE CONVERGÊNCIA (RDC) DE X[Z]\n",
        "\n",
        "\n",
        "\n",
        "1.   A RDC de X(z) consiste em um anel no PLANO-Z centrado na origem\n",
        "2.   A RDC de X(z) não contém pólos\n",
        "3. Se x[n] for de duração finita a RDC é todo o PLANO-Z exceto o z=0 e/ou z=∞. Veja $X(z) =x[-M]z^M... +x[-1]z+x[0]+x[1]z^{-1} +...+x[N]z^{-N}$\n",
        "4. Se x[n] for uma sequencia lateral direita\n",
        "\n",
        "\n",
        "![](https://github.com/arqMedes/images/blob/main/Figura5-1.png?raw=true)\n",
        "\n",
        "PARES DA TRANSFORMADA Z\n",
        "\n",
        "\n",
        "![](https://blogger.googleusercontent.com/img/b/R29vZ2xl/AVvXsEjfd24o_cdyoECiNZT-u9rNE9zMb55rQyUNp932qCJBCgA7qntdZEWD2WAMZqAThWXLjsQyJM4o6TGlsSMwzSlXwAPuY0Ql8KMAdReUCQwSZcg18CImKuoCaT8-akqmrvzJhkb46GRIMQtS/s1600/Tabela+da+Transformada+Z.jpg)\n"
      ],
      "metadata": {
        "id": "OS2JqB0g10Lj"
      }
    },
    {
      "cell_type": "markdown",
      "source": [
        "Exemplo\n",
        "\n",
        "Determine as transformadas z de\n",
        "\n",
        "(a) δ[n]\n",
        "\n",
        "(b) u[n]\n",
        "\n",
        "(c) cos βn u[n]\n",
        "\n",
        "(d) O sinal mostrado na Fig. 5.2\n",
        "\n"
      ],
      "metadata": {
        "id": "cUV_fJ_FC4zc"
      }
    },
    {
      "cell_type": "code",
      "execution_count": null,
      "metadata": {
        "id": "AC5PEAzV1wbL"
      },
      "outputs": [],
      "source": []
    }
  ]
}