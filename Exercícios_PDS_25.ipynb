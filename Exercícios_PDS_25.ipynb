{
  "nbformat": 4,
  "nbformat_minor": 0,
  "metadata": {
    "colab": {
      "provenance": [],
      "authorship_tag": "ABX9TyNwOW0jcUSWDhwHGyffI1Pb",
      "include_colab_link": true
    },
    "kernelspec": {
      "name": "python3",
      "display_name": "Python 3"
    },
    "language_info": {
      "name": "python"
    }
  },
  "cells": [
    {
      "cell_type": "markdown",
      "metadata": {
        "id": "view-in-github",
        "colab_type": "text"
      },
      "source": [
        "<a href=\"https://colab.research.google.com/github/arqMedes/PDS/blob/main/Exerc%C3%ADcios_PDS_25.ipynb\" target=\"_parent\"><img src=\"https://colab.research.google.com/assets/colab-badge.svg\" alt=\"Open In Colab\"/></a>"
      ]
    },
    {
      "cell_type": "markdown",
      "source": [],
      "metadata": {
        "id": "1YnlVhuUt5hI"
      }
    },
    {
      "cell_type": "markdown",
      "source": [
        "# Fourier Questões"
      ],
      "metadata": {
        "id": "pVvhlzzwLohf"
      }
    },
    {
      "cell_type": "markdown",
      "source": [
        "**(1) Seja x[n] um sinal periódico real e ímpar com período N=7. Dado os seguintes coeficientes**\n",
        "\n",
        "$a_{15}=j , a_{16}=2j \\  e \\  a_{17}=3j$\n",
        "\n",
        "Determine os valores de $a_0 ,a_1 , a_2 \\ e \\ a_3$\n",
        "\n",
        "*Solução:*\n",
        "\n",
        "Sabe-se $a_{k ± N}= a_k$, com N = 7, e que o espectro será ímpar imaginário, assim:\n",
        "\n",
        "$a_0= 0$\n",
        "\n",
        "$a_{17}=a_{10} = a_3= 3j$\n",
        "\n",
        "$a_{16}=a_9 = a_2= 2j$\n",
        "\n",
        "$a_{15}=a_8 = a_1= j$"
      ],
      "metadata": {
        "id": "M9B_Z1if_5JW"
      }
    },
    {
      "cell_type": "markdown",
      "source": [
        "**(2) Dado o sinal periódico**\n",
        "\n",
        "$x[n] =\\sum_{m=-∞}^∞4\\delta{[n-4m]}+\\sum_{m=-∞}^∞8\\delta{[n-1-4m]}$  \n",
        "\n",
        "**Calcule o espectro de frequência para um período**\n",
        "\n",
        "\n",
        " *Solução*\n",
        "\n",
        " Período N = 4, de n= 0 até 3 (um período):\n",
        "\n",
        " $x[0] = 4, x[1]= 8, x[2]=0 \\ e \\ x[3]=0$\n",
        "\n",
        " Assim,\n",
        "\n",
        " $a_k = \\frac{1}{N}\\sum_{n=<N>}x[n]W_4^{-nk}n$ onde $W_4^{-1}=-j$\n",
        "\n",
        "\n",
        "$$\n",
        "\\begin{array}{|c|c|} \\hline\n",
        "1 & -j & -1 & j \\\\ \\hline\n",
        "W_4^0 & W_4^1 & W_4^2 & W_4^3 \\\\\n",
        "W_4^4 & W_4^5 & W_4^6 & W_4^7  \\\\\n",
        "W_4^8 & W_4^9 & W_4^{10} & W_4^{11}  \\\\ \\hline\n",
        "\\end{array}\n",
        "a_k =  \\frac{1}{4}[x[0]+x[1]W_4^k]\n",
        "$$\n",
        "\n",
        "\n",
        "\n",
        "$a_0 =  \\frac{1}{4}[4+8]= 3$\n",
        "\n",
        "$a_1 =  \\frac{1}{4}[x[0]+x[1]W_4^1] = \\frac{1}{4}[4 + 8(-j)]=1-2j$\n",
        "\n",
        "$a_2 =  \\frac{1}{4}[x[0]+x[1]W_4^2] = \\frac{1}{4}[4 + 8(-1)]=-1$\n",
        "\n",
        "$a_3 =  \\frac{1}{4}[x[0]+x[1]W_4^3] = \\frac{1}{4}[4 + 8(j)]=1+2j$"
      ],
      "metadata": {
        "id": "diKDZJvAIoEI"
      }
    },
    {
      "cell_type": "markdown",
      "source": [
        "**(3) Encontre a Inversa da DFT de $X[k] = [0, 0, 4, 0]$.**\n",
        "\n",
        "*Solução*\n",
        "\n",
        "$x[n] = \\frac{1}{4}\\sum_{n=0}^3X[k]W_4^{nk}n$ onde $W_4=j$\n",
        "\n",
        "\n",
        "$$\n",
        "\\begin{array}{|c|c|} \\hline\n",
        "1 & j & -1 & -j \\\\ \\hline\n",
        "W_4^0 & W_4^1 & W_4^2 & W_4^3 \\\\\n",
        "W_4^4 & W_4^5 & W_4^6 & W_4^7  \\\\\n",
        "W_4^8 & W_4^9 & W_4^{10} & W_4^{11}  \\\\ \\hline\n",
        "\\end{array}\n",
        "x[n] =  \\frac{1}{4} \\{ X[2]W_4^{2n} \\}\n",
        "$$\n",
        "\n",
        "$x[0]= \\frac{1}{4} \\{ 4W_4^0 \\}=1$\n",
        "\n",
        "$x[1]= \\frac{1}{4} \\{ 4W_4^2 \\}=-1$\n",
        "\n",
        "$x[2]= \\frac{1}{4} \\{ 4W_4^4 \\}=1$\n",
        "\n",
        "$x[1]= \\frac{1}{4} \\{ 4W_4^6 \\}=-1$\n",
        "\n",
        "$$\n",
        "\\begin{array}{|c|} \\hline\n",
        "Resposta: x[n]=[1, -1, 1, -1]  \\\\ \\hline\n",
        "\\end{array}\n",
        "\\\\\n",
        "\\\\\n",
        "$$\n",
        "\n",
        "\n",
        "**(4) Encontre a DFT de x[n] = [1, 2, 1, 2]**\n",
        "\n",
        "*Solução*\n",
        "\n",
        "$X[k] = \\sum_{k=0}^3x[n]W_4^{-nk}n$ onde $W_4^{-1}=-j$\n",
        "\n",
        "\n",
        "$$\n",
        "\\begin{array}{|c|c|} \\hline\n",
        "1 & -j & -1 & j \\\\ \\hline\n",
        "W_4^0 & W_4^1 & W_4^2 & W_4^3 \\\\\n",
        "W_4^4 & W_4^5 & W_4^6 & W_4^7  \\\\\n",
        "W_4^8 & W_4^9 & W_4^{10} & W_4^{11}  \\\\ \\hline\n",
        "\\end{array} \\\\\n",
        "X[k] =   x[0]W_4^0 + x[1]W_4^k + x[2]W_4^{2k} + x[3]W_4^{3k}\n",
        "$$\n",
        "\n",
        "$X[0]= x[0] + x[1] + x[2] + x[3 =6$\n",
        "\n",
        "$X[1]= x[0]W_4^0 + x[1]W_4^1 + x[2]W_4^2 + x[3]W_4^3=1 + 2(-j)+1(-1) + 2(j)= 0 $\n",
        "\n",
        "$X[2]= x[0]W_4^0 + x[1]W_4^2 + x[2]W_4^4 + x[3]W_4^6=1 + 2(-1)+1(1) + 2(-1)= -2 $\n",
        "\n",
        "$X[3]= x[0]W_4^0 + x[1]W_4^3 + x[2]W_4^6 + x[3]W_4^9=1 + 2(j)+1(-1) + 2(-j)= 0 $\n",
        "\n",
        "$$\n",
        "\\begin{array}{|c|} \\hline\n",
        "Resposta: X[k]=[6, 0, -2, 0]  \\\\ \\hline\n",
        "\\end{array}\n",
        "\\\\\n",
        "\\\\\n",
        "$$"
      ],
      "metadata": {
        "id": "pBq_5qbWCLI6"
      }
    },
    {
      "cell_type": "markdown",
      "source": [
        "**(5) Encontre a Série de Fourier de um sinal periódico**\n",
        "\n",
        "$$x[n]= 1 + cos(n\\pi/2) + sen(n\\pi/2), para -∞< n <∞ $$\n",
        "\n",
        "*Solução:*\n",
        "\n",
        "$$x[n]= 1 + \\frac{1}{2}(e^{j\\frac{\\pi}{2}n} + e^{-j\\frac{\\pi}{2}n}) + \\frac{1}{2j}(e^{j\\frac{\\pi}{2}n} - e^{-j\\frac{\\pi}{2}n})$$\n",
        "\n",
        "$$x[n]= 1 + (\\frac{1}{2} -\\frac{1}{2}j)e^{j\\frac{\\pi}{2}n} + (\\frac{1}{2} +\\frac{1}{2}j)e^{-j\\frac{\\pi}{2}n}$$\n",
        "\n",
        "*Série de Fourier:*\n",
        "\n",
        "$a_0=1$\n",
        "\n",
        "$a_1=\\frac{1}{2} -\\frac{1}{2}j$\n",
        "\n",
        "$a_{-1}=\\frac{1}{2} +\\frac{1}{2}j$ e $w_0=\\frac{\\pi}{2}$\n"
      ],
      "metadata": {
        "id": "ItO8AcHJnq67"
      }
    },
    {
      "cell_type": "markdown",
      "source": [
        "**(6) Considere um sinal discreto de período N = 20 dado por $x[n]=u[n]-u[n-10]$. Encontre a Série de Fourier de $x[n]$.**\n",
        "\n",
        "*Solução:*\n",
        "\n",
        "\n"
      ],
      "metadata": {
        "id": "_F3N8BQjdKQP"
      }
    },
    {
      "cell_type": "code",
      "source": [
        "import numpy as np\n",
        "A = np.matrix([[1, 1, 1, 1],[1, 1j, -1, -1j], [1, -1, 1, -1], [1, -1j, -1, 1j]])\n",
        "B= np.matrix([1,0,2,-1]).T\n",
        "#print(A, B)\n",
        "print(A.I*B)"
      ],
      "metadata": {
        "id": "cApkcRhfY8Nd",
        "colab": {
          "base_uri": "https://localhost:8080/"
        },
        "outputId": "19be9b1a-ec62-4cb0-d628-ab6c8667fcbf"
      },
      "execution_count": null,
      "outputs": [
        {
          "output_type": "stream",
          "name": "stdout",
          "text": [
            "[[ 0.5 +0.j  ]\n",
            " [-0.25-0.25j]\n",
            " [ 1.  +0.j  ]\n",
            " [-0.25+0.25j]]\n"
          ]
        }
      ]
    },
    {
      "cell_type": "code",
      "source": [
        "import numpy as np\n",
        "import matplotlib.pyplot as plt\n",
        "\n",
        "N_0 = 64\n",
        "n_base = np.arange( N_0)\n",
        "x_n = np.array(10*[1]+  54*[0] )\n",
        "\n",
        "X_r = np.fft.fft(x_n)/N_0;\n",
        "plt.subplot(2,1,2)\n",
        "plt.stem(n_base,np.real(X_r),'k');\n",
        "plt.xlabel('x')\n",
        "plt.ylabel('X_r')\n",
        "\n",
        "\n",
        "\n"
      ],
      "metadata": {
        "colab": {
          "base_uri": "https://localhost:8080/",
          "height": 266
        },
        "id": "JW5scnmhlm0_",
        "outputId": "8f248554-3fe3-4365-a4a3-9c2cf02fbb89"
      },
      "execution_count": null,
      "outputs": [
        {
          "output_type": "execute_result",
          "data": {
            "text/plain": [
              "\"\\nplt.axis ([0 31 - .1 0.3]);\\nlegend('DTFS by FFT',\\n\""
            ],
            "application/vnd.google.colaboratory.intrinsic+json": {
              "type": "string"
            }
          },
          "metadata": {},
          "execution_count": 1
        },
        {
          "output_type": "display_data",
          "data": {
            "text/plain": [
              "<Figure size 640x480 with 1 Axes>"
            ],
            "image/png": "[encoded data removed]"
          },
          "metadata": {}
        }
      ]
    },
    {
      "cell_type": "markdown",
      "source": [
        "**(7) Considere x[n] representado na Figura 1 que pode ser expresso em termos de uma série de Fourier de tempo discreto como**\n",
        "\n",
        "\n",
        "!['Figura 1'](https://github.com/arqMedes/images/blob/main/sinal_discreto_01.jpg?raw=true)\n",
        "\n",
        "*Solução*\n",
        "\n",
        "$x[n] = \\sum_{k=<4>}a_ke^{jw_0kn}$ ou\n",
        "\n",
        "$x[n] = \\sum_{k=<4>}a_kW_4^{nk}n$ onde $W_4=j$\n",
        "\n",
        "\n",
        "$$\n",
        "\\begin{array}{|c|c|} \\hline\n",
        "1 & j & -1 & -j \\\\ \\hline\n",
        "W_4^0 & W_4^1 & W_4^2 & W_4^3 \\\\\n",
        "W_4^4 & W_4^5 & W_4^6 & W_4^7  \\\\\n",
        "W_4^8 & W_4^9 & W_4^{10} & W_4^{11}  \\\\ \\hline\n",
        "\\end{array}\n",
        "$$\n",
        "\n",
        "E de acordo com o gráfico,\n",
        "\n",
        "$x[0] = a_0 + a_1 +a_2+a_3 = 1$\n",
        "\n",
        "$x[1] = a_0 + a_1W_4^1 +a_2W_4^2+a_3W_4^3 = 0$\n",
        "\n",
        "$x[2] = a_0 + a_1W_4^2 +a_2W_4^4+a_3W_4^6 = 2$\n",
        "\n",
        "$x[3] = a_0 + a_1W_4^3 +a_2W_4^6+a_3W_4^9 = -1$\n",
        "\n",
        "Assim,\n",
        "\n",
        "$x[0] = a_0 + a_1 +a_2+a_3 = 1$\n",
        "\n",
        "$x[1] = a_0 + ja_1 -a_2 -ja_3 = 0$\n",
        "\n",
        "$x[2] = a_0 - a_1 +a_2-a_3 = 2$\n",
        "\n",
        "$x[3] = a_0 - ja_1 -a_2+ ja_3 = -1$\n",
        "\n",
        "Resolvendo o sistema de equanções determina-se:\n",
        "\n",
        "$a_0= \\frac{1}{2}, \\ a_1= -\\frac{1}{4} - j\\frac{1}{4}, \\ a_2= 1 \\ e \\ a_3= -\\frac{1}{4} + j\\frac{1}{4}$\n",
        "\n",
        "Outra maneira, usando a fórmula:\n",
        "\n",
        "$X[k] = \\frac{1}{4}\\sum_{n=<4>}x[n]W_4^{-nk}n$"
      ],
      "metadata": {
        "id": "Y08WPFjThCna"
      }
    },
    {
      "cell_type": "code",
      "source": [
        "import numpy as np\n",
        "x= [4, 8, 0,0]\n",
        "X = np.fft.fft(x)\n",
        "1/4*X"
      ],
      "metadata": {
        "colab": {
          "base_uri": "https://localhost:8080/"
        },
        "id": "jroI_rZA-laV",
        "outputId": "ca47d4c8-9dc0-4bfd-be59-22f1f7806892"
      },
      "execution_count": null,
      "outputs": [
        {
          "output_type": "execute_result",
          "data": {
            "text/plain": [
              "array([ 3.+0.j,  1.-2.j, -1.+0.j,  1.+2.j])"
            ]
          },
          "metadata": {},
          "execution_count": 2
        }
      ]
    },
    {
      "cell_type": "markdown",
      "source": [
        "# PDS RESUMO"
      ],
      "metadata": {
        "id": "SJrUQg73MfhQ"
      }
    },
    {
      "cell_type": "markdown",
      "source": [
        "Capítulo Um\n",
        "\n",
        "Sinais Discretos Elementares:\n",
        "Impulso Unitário, Degrau Unitário.\n",
        "\n",
        "Operações:\n",
        "Var. Independente: deslocamentos (atraso e avanço) de sinais.\n",
        "Var. Dependente: amplificação/atenuação e polarização de sinais.\n",
        "\n",
        "Exemplos de Sinais\n",
        "\n",
        "Objetivos: Apresentar exemplos de sinais, e realizar operações triviais com sinais discretos\n",
        "\n",
        "\n",
        "Capítulo Dez"
      ],
      "metadata": {
        "id": "d4V8GbjWMyZv"
      }
    },
    {
      "cell_type": "code",
      "source": [
        "import numpy as np\n",
        "import matplotlib.pyplot as plt"
      ],
      "metadata": {
        "id": "HPw9EzuXjDVe"
      },
      "execution_count": null,
      "outputs": []
    },
    {
      "cell_type": "code",
      "source": [
        "# Impulso Unitário\n",
        "def impU(n, n0=0):\n",
        "  aux = np.zeros(n.shape)\n",
        "  aux[n==n0] = 1\n",
        "  return aux\n",
        "\n",
        "# Degrau Unitário\n",
        "def degU(n, n0=0):\n",
        "  aux = np.zeros(n.shape)\n",
        "  aux[n>=n0] = 1\n",
        "  return aux\n"
      ],
      "metadata": {
        "id": "jU6EuobG7ghb"
      },
      "execution_count": null,
      "outputs": []
    },
    {
      "cell_type": "code",
      "source": [
        "# base de tempo\n",
        "n = np.arange(-7,10)\n",
        "plt.subplot(2,1,1)\n",
        "plt.stem(n, impU(n, 4), \"green\")\n",
        "plt.grid(color = 'green', linestyle = '--', linewidth = 0.5,axis='x')\n",
        "\n",
        "plt.subplot(2,1,2)\n",
        "plt.stem(n, degU(n, -2), \"gray\")\n",
        "plt.grid(color = 'green', linestyle = '--', linewidth = 0.5)\n"
      ],
      "metadata": {
        "colab": {
          "base_uri": "https://localhost:8080/",
          "height": 430
        },
        "id": "d24kkyMojv_5",
        "outputId": "06d64d4a-16a8-4f6b-fb6c-91b05e619ffd"
      },
      "execution_count": null,
      "outputs": [
        {
          "output_type": "display_data",
          "data": {
            "text/plain": [
              "<Figure size 640x480 with 2 Axes>"
            ],
            "image/png": "[encoded data removed]"
          },
          "metadata": {}
        }
      ]
    },
    {
      "cell_type": "code",
      "source": [
        "# Seja o sinal x[n] = [2, -1, 3, 0, 1]\n",
        "# Veja se é o mesmo\n",
        "\n",
        "n = np.arange(5)\n",
        "x = np.array([2, -1, 3, 0, 1])\n",
        "for k in n:\n",
        "  plt.stem(n, x[k]*impU(n, k))"
      ],
      "metadata": {
        "id": "xju3F0nSj8rp",
        "colab": {
          "base_uri": "https://localhost:8080/",
          "height": 430
        },
        "outputId": "60238732-629e-4f5b-9ed6-f08e2b02fdca"
      },
      "execution_count": null,
      "outputs": [
        {
          "output_type": "display_data",
          "data": {
            "text/plain": [
              "<Figure size 640x480 with 1 Axes>"
            ],
            "image/png": "[encoded data removed]"
          },
          "metadata": {}
        }
      ]
    },
    {
      "cell_type": "code",
      "source": [
        "# resposta ao impulso de y[n] = x[n] - 2x[n-1] + 4x[n-2]\n",
        "# x[n] <-- Impulso[n] e y[n] <-- h[n] (resposta ao impulso)\n",
        "\n",
        "n = np.arange(-3, 5)\n",
        "for k in n:\n",
        "  h = impU(n)- 2*impU(n,1)+ 4*impU(n,2)\n",
        "print(h)\n",
        "print(impU(n,1))\n",
        "print(impU(n,2))"
      ],
      "metadata": {
        "colab": {
          "base_uri": "https://localhost:8080/"
        },
        "id": "Qf2xlFAVgTpC",
        "outputId": "e306b425-3b38-4079-b6a3-f2dbf6c73627"
      },
      "execution_count": null,
      "outputs": [
        {
          "output_type": "stream",
          "name": "stdout",
          "text": [
            "[ 0.  0.  0.  1. -2.  4.  0.  0.]\n",
            "[0. 0. 0. 0. 1. 0. 0. 0.]\n",
            "[0. 0. 0. 0. 0. 1. 0. 0.]\n"
          ]
        }
      ]
    },
    {
      "cell_type": "code",
      "source": [],
      "metadata": {
        "id": "7_gZLHPYrjgn"
      },
      "execution_count": null,
      "outputs": []
    }
  ]
}