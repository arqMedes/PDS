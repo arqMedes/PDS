{
  "nbformat": 4,
  "nbformat_minor": 0,
  "metadata": {
    "colab": {
      "provenance": [],
      "authorship_tag": "ABX9TyNVkZe+loJ4bcaNPdextj4F",
      "include_colab_link": true
    },
    "kernelspec": {
      "name": "python3",
      "display_name": "Python 3"
    },
    "language_info": {
      "name": "python"
    }
  },
  "cells": [
    {
      "cell_type": "markdown",
      "metadata": {
        "id": "view-in-github",
        "colab_type": "text"
      },
      "source": [
        "<a href=\"https://colab.research.google.com/github/arqMedes/PDS/blob/main/2-Transformada-Z/Transf_Z_04.ipynb\" target=\"_parent\"><img src=\"https://colab.research.google.com/assets/colab-badge.svg\" alt=\"Open In Colab\"/></a>"
      ]
    },
    {
      "cell_type": "markdown",
      "source": [
        "# EXERCÍCIOS\n",
        "\n"
      ],
      "metadata": {
        "id": "53h8CUAq20Mg"
      }
    },
    {
      "cell_type": "markdown",
      "source": [
        "1) Determine a Transformada Z de $u[n] - u[n - 2]$\n",
        "\n",
        "<p>\n",
        "<em>\n",
        "Solução:\n",
        "\n",
        "Seja $x_1[n]=u[n]$ e $x_2[n]= u[n-2]$\n",
        "\n",
        "Pela Tabela de Pares de Transformada-Z e pela Propriedade do Deslocamento tem-se:\n",
        "\n",
        "$X_1(z) =\\frac{z}{z-1}$ e $X_2(z) =z^{-2}\\frac{z}{z-1}$. Logo:\n",
        "\n",
        "$X(z) = X_1(z) - X_2(z) \\\\ X(z) = \\frac{z}{z-1}(1-z^{-2}) \\\\ X(z) = \\frac{z}{z-1}\\frac{(z^2-1)}{z^2} \\\\ X(z) = \\frac{z + 1}{z}$\n",
        "</em>\n",
        "</p>\n",
        "\n",
        "2) Determine a Transformada Z inversa de:\n",
        "\n",
        "a) $\\frac{z-4}{z^2-5z+6}$\n",
        "\n",
        "<p>\n",
        "<em>\n",
        "Solução:\n",
        "\n",
        "$X(z) = \\frac{z-4}{(z-2)(z-3)}=\\frac{2}{(z-2)} - \\frac{1}{(z-3)} \\\\ X(z) =2z^{-1}\\frac{z}{(z-2)} - z^{-1}\\frac{z}{(z-3)}\\\\ x[n]=2.2^{n-1}u[n-1] - 3^{n-1}u[n-1]$\n",
        "</p>\n",
        "</em>\n",
        "\n",
        "b) $\\frac{(z-1)^2}{z^3}$\n",
        "\n",
        "<p>\n",
        "<em>\n",
        "Solução:\n",
        "\n",
        "$X(z)=\\frac{(z-1)^2}{z^3}= \\frac{z^2-2z + 1}{z^3}=z^{-1}-2z^{-2}+z^{-3}$\n",
        "\n",
        "Aplicando a Transformada Z Inversa em conjunto com a propriedade do deslocamento:\n",
        "\n",
        "$x[n]=\\delta[n-1]-2\\delta[n-2]+\\delta[n-3]$\n",
        "</p>\n",
        "</em>\n"
      ],
      "metadata": {
        "id": "xxFrK1fSSGH-"
      }
    },
    {
      "cell_type": "markdown",
      "source": [
        "3) Determine a Transformada Z do sinal da Figura 1.\n",
        "\n",
        "\n",
        "![](https://github.com/arqMedes/images/blob/main/Fig1_P25-1TZ.png?raw=true)\n",
        "\n",
        "<section>\n",
        "<em>\n",
        "\n",
        "Solução:\n",
        "\n",
        "$X(z) = u[n-4]-u[n-10]=z^{-4}U(z)-z^{-10}U(z)$\n",
        "\n",
        "$X(z) = (z^{-4}-z^{-10})U(z)= \\frac{z^6-1}{z^{10}}\\frac{z}{z-1}$\n",
        "\n",
        "$X(z) = \\frac{z^6-1}{z^{9}(z-1)}$\n",
        "\n",
        "</em>\n",
        "</section>\n",
        "\n",
        "4) Resolva a seguinte equação:\n",
        "\n",
        "$y[n]+3y[n-1]+2y[n-2]=x[n-1]+3x[n]. \\\\ \\\\ C.I.: y[0]=1, \\ y[1]=2 \\ e \\ x[n]=u[n]$\n",
        "\n",
        "<table>\n",
        "  <tr>\n",
        "    <th>Solução:...................................................................................</th>\n",
        "  </tr>\n",
        "  <tr><td>Usando um avanço de 2, a equação fica:</td></tr>\n",
        "  <tr><td>$y[n+2]+3y[n+1]+2y[n]=x[n+1]+3x[n+2]$  Eq. 1</td></tr>\n",
        "  <tr><td>Usando a propriedade do deslocamento à esquerda:</td></tr>\n",
        "  <tr>\n",
        "    <td>$y[n] → Y(z) \\\\ y[n+1] → zY(z)- zy[0] \\\\ y[n+2] → z^2Y(z)- z^2y[0]-zy[1]$</td>\n",
        "  </tr>\n",
        "  <tr><td>Aplicando a Transformada Z em ambos membros da Eq 1:</td></tr>\n",
        "  <tr><td>$(z^2 + 3z+2)Y(z)= (z+3)X(z)+z^2+4z$</td></tr>\n",
        "  <tr><td>$(z^2 + 3z+2)Y(z)= (z+3)\\frac{z}{z-1}+z^2+4z$</td></tr>\n",
        "  <tr><td>$(z^2 + 3z+2)Y(z)=\\frac{z^2+3z+ (z^2+4z)(z-1)}{z-1}$</td></tr>\n",
        "  <tr><td>$(z^2 + 3z+2)Y(z)=\\frac{z^2+3z+ z^3+4z^2-z^2-4z}{z-1}$</td></tr>\n",
        "  <tr><td>$(z^2 + 3z+2)Y(z)=\\frac{z^3+4z^2-z}{z-1}$</td></tr>\n",
        "  <tr><td>$Y(z)=\\frac{z(z^2+4z-1)}{(z-1)(z+1)(z+2)}$</td></tr>\n",
        "  <tr><td>$\\frac{Y(z)}{z}=\\frac{z^2+4z-1}{(z-1)(z+1)(z+2)}$</td></tr>\n",
        "  <tr><td>$\\frac{Y(z)}{z}=-\\frac{5}{3}\\frac{1}{z+2}+ 2\\frac{1}{z+1}+\\frac{2}{3}\\frac{1}{z-1}$</td></tr>\n",
        "  <tr><td>$Y(z)=-\\frac{5}{3}\\frac{z}{z+2}+ 2\\frac{z}{z+1}+\\frac{2}{3}\\frac{z}{z-1}$ Eq. 2</td></tr>\n",
        "  <tr><td>Aplicando a Transformada Z Inversa em ambos membros da Eq 2:</td></tr>\n",
        "  <tr><td>$y[n]=-\\frac{5}{3}(-2)^nu[n]+ 2(-1)^nu[n]+\\frac{2}{3}u[n]$ Eq. 2</td></tr>\n",
        "</table>"
      ],
      "metadata": {
        "id": "D_5mRiC6PbEu"
      }
    },
    {
      "cell_type": "markdown",
      "source": [
        "5) Um sistema em tempo discreto é descrito pela seguinte função de transferência:\n",
        "\n",
        "$$\n",
        "H(z) = \\frac{z-0.5}{(z+0.5)(z-1)}\n",
        "$$\n",
        "\n",
        "(a) Determine a resposta do sistema a entrada $x[n] = 3 – (n+1)u[n]$ se todas as condições iniciais forem nulas.  **<< N U L A >>**\n",
        "\n",
        "\n",
        "\n",
        "(b) Escreva a equação diferença que relaciona a saída y[n] com a entrada x[n] para este sistema\n",
        "\n",
        "<table>\n",
        "  <tr>\n",
        "    <th>Solução:...................................................................................</th>\n",
        "  </tr>\n",
        "  <tr><td>$(a)  \\\\ Y(z)=H(z)X(z)$, considerando $x[n] = 3^{– (n+1)}u[n]$</td></tr>\n",
        "  <tr><td>$x[n] = 3^{–1}3^{–n}u[n]=\\frac{1}{3}(\\frac{1}{3})^nu[n] ⇌ X(z)=\\frac{1}{3}\\frac{z}{z-\\frac{1}{3}}$</td></tr>\n",
        "  <tr><td>$Y(z) = \\frac{z-0.5}{(z+0.5)(z-1)}\\frac{1}{3}\\frac{z}{z-\\frac{1}{3}}$</td></tr>\n",
        "\n",
        "  <tr><td>$\\frac{Y(z)}{z} = \\frac{1}{3}\\frac{z-0.5}{(z+0.5)(z-1)(z-\\frac{1}{3})}$</td></tr>\n",
        "\n",
        "  <tr><td>$\\frac{Y(z)}{z} = \\frac{1}{3}\\frac{z-0.5}{(z+0.5)(z-1)(z-\\frac{1}{3})}$</td></tr>\n",
        "\n",
        "  <tr><td>$\\frac{Y(z)}{z} = \\frac{1}{3}[0.5\\frac{1}{z-1}- 0.8\\frac{1}{z+0.5}+ 0.3\\frac{1}{z-\\frac{1}{3}}]$</td></tr>\n",
        "\n",
        "  <tr><td>Aplicando a Transformada Inversa:</td></tr>\n",
        "\n",
        "  <tr><td>$y[n]= \\frac{1}{3}[0.5 - 0.8(-0.5)^n+0.3(\\frac{1}{3})^n]u[n] $</td></tr>\n",
        "\n",
        "  <tr><td>$(b) \\\\ \\frac{Y(z)}{X(z)}=\\frac{z-0.5}{(z+0.5)(z-1)}$</td></tr>\n",
        "\n",
        "  <tr><td>$\\frac{Y(z)}{X(z)}=\\frac{z-0.5}{z^2 -0.5z-0.5}$</td></tr>\n",
        "\n",
        "  <tr><td>$Y(z)(z^2 -0.5z-0.5)=(z-0.5)X(z)$</td></tr>\n",
        "\n",
        "  <tr><td>$z^2Y(z) -0.5zY(z)-0.5Y(z)=zX(z)-0.5X(z)$</td></tr>\n",
        "\n",
        "  <tr><td>Aplicando a Propriedade do Deslocamento para obtenção da Transformada Inversa Z:</td></tr>\n",
        "\n",
        "  <tr><td>$y[n+2] -0.5y[n+1]-0.5y[n])=x[n+1]-0.5x[n]$</td></tr>\n",
        "\n",
        "\n",
        "\n",
        "  </table>"
      ],
      "metadata": {
        "id": "RAZIKdmuHFu5"
      }
    },
    {
      "cell_type": "markdown",
      "source": [
        "6) Dado a resposta ao impulso $h[n]=\\{-1 + (0.5)^n\\}u[n]$ , dizer se o sistema é estável ou não.\n",
        "\n",
        "\n",
        " <table>\n",
        "  <tr>\n",
        "    <td><strong>Solução:</strong></td>\n",
        "  </tr>\n",
        "\n",
        "  <tr><td>$H(z)=Z\\{−u[n]\\}+Z\\{(0.5)^nu[n]\\}$</td></tr>\n",
        "\n",
        "  <tr><td>$H(z)=-\\frac{z}{z-1}+\\frac{z}{z-0.5}$</td></tr>\n",
        "\n",
        "  <tr><td>$RDC1: |z|>1 \\ e \\ RDC2: |z|>0.5$.</td></tr>\n",
        "\n",
        "   <tr><td>Logo a RDC de H(z) é $|z|>1$ que não contém o círculo unitário. Portanto, o sistema é Instável (Não Estável).</td></tr>\n",
        "\n",
        "  </table>"
      ],
      "metadata": {
        "id": "LbW_EtcxhFGE"
      }
    },
    {
      "cell_type": "markdown",
      "source": [
        "7) Determine a transformada z (se ela existir) e a RDC correspondente para cada um dos seguintes sinais:\n",
        "\n",
        "a) $(0.8)^nu[n]+2^nu[-n-1]$\n",
        "\n",
        "\n",
        "b) $2^nu[n]-3^nu[-n-1]$\n",
        "\n",
        "<table>\n",
        "  <tr>\n",
        "    <td><strong>Solução:</strong></td>\n",
        "  </tr>\n",
        "\n",
        "  <td><strong>__________________________________________________________________________________________________________</strong></td>\n",
        "  </tr>\n",
        "\n",
        "  <tr><td>a) $X(z)=X_1(z)+X_2(z) \\ Onde: X_1(z)=Z\\{(0.8)^nu[n]\\} \\ e \\ X_2(z)=Z\\{2^nu[-n-1]\\}$</td></tr>\n",
        "\n",
        "  <tr><td> $X(z)=\\frac{z}{z-0.8}-\\frac{z}{z-2}$. Sendo a RDC: $0.8 <z < 2$</td></tr>\n",
        "\n",
        "  <tr><td> $X(z)=\\frac{-1.2z}{z^2-2.8z+1.6}$</td></tr>\n",
        "\n",
        "  <tr><td></td></tr>\n",
        "\n",
        "  <tr><td>b) $X(z)=X_1(z)+X_2(z) \\ Onde: X_1(z)=Z\\{2^nu[n]\\} \\ e \\ X_2(z)=Z\\{-3^nu[-n-1]\\}$</td></tr>\n",
        "\n",
        "  <tr><td> $X(z)=\\frac{z}{z-2}+\\frac{z}{z-3}$. Sendo a RDC: $2 <z < 3$</td></tr>\n",
        "\n",
        "  <tr><td> $X(z)=\\frac{z(2z-5)}{z^2-5z+6}$</td></tr>\n",
        "\n",
        "  <td><strong>__________________________________________________________________________________________________________</strong></td>\n",
        "  </tr>\n",
        "\n",
        "  </table>\n"
      ],
      "metadata": {
        "id": "m1BuLCiit071"
      }
    },
    {
      "cell_type": "code",
      "execution_count": null,
      "metadata": {
        "id": "paPbipce13MP",
        "colab": {
          "base_uri": "https://localhost:8080/",
          "height": 73
        },
        "outputId": "b95faabc-bf9f-4c64-85fa-a125d27e8a71"
      },
      "outputs": [
        {
          "output_type": "stream",
          "name": "stdout",
          "text": [
            "(z**2 + 4*z - 1)/((z - 1)*(z + 1)*(z + 2))\n"
          ]
        },
        {
          "output_type": "execute_result",
          "data": {
            "text/plain": [
              "      5         2         2    \n",
              "- ───────── + ───── + ─────────\n",
              "  3⋅(z + 2)   z + 1   3⋅(z - 1)"
            ],
            "text/latex": "$\\displaystyle - \\frac{5}{3 \\left(z + 2\\right)} + \\frac{2}{z + 1} + \\frac{2}{3 \\left(z - 1\\right)}$"
          },
          "metadata": {},
          "execution_count": 1
        }
      ],
      "source": [
        "import numpy as np\n",
        "from sympy import *\n",
        "\n",
        "init_printing(use_unicode=True)\n",
        "\n",
        "z = Symbol('z')\n",
        "\n",
        "numerador = (z ** 2 + 4*z -1)\n",
        "denominador = (z-1)*(z+1)*(z+2)\n",
        "H = numerador / denominador\n",
        "print(H)\n",
        "apart(H)\n"
      ]
    },
    {
      "cell_type": "code",
      "source": [
        "numerador = (z  - 0.5)/3\n",
        "denominador = (z+ 0.5)*(z-1)*(z-1/3)\n",
        "H = numerador / denominador\n",
        "print(H)\n",
        "apart(H)"
      ],
      "metadata": {
        "id": "Ylk-ElAPrHhX",
        "colab": {
          "base_uri": "https://localhost:8080/",
          "height": 70
        },
        "outputId": "3d11a117-9d3e-4339-89c1-85e28391bded"
      },
      "execution_count": null,
      "outputs": [
        {
          "output_type": "stream",
          "name": "stdout",
          "text": [
            "(z/3 - 0.166666666666667)/((z - 1)*(z - 0.333333333333333)*(z + 0.5))\n"
          ]
        },
        {
          "output_type": "execute_result",
          "data": {
            "text/plain": [
              "0.166666666666667   0.266666666666667              0.1           \n",
              "───────────────── - ───────────────── + ─────────────────────────\n",
              "      z - 1            1.0⋅z + 0.5      1.0⋅z - 0.333333333333333"
            ],
            "text/latex": "$\\displaystyle \\frac{0.166666666666667}{z - 1} - \\frac{0.266666666666667}{1.0 z + 0.5} + \\frac{0.1}{1.0 z - 0.333333333333333}$"
          },
          "metadata": {},
          "execution_count": 3
        }
      ]
    },
    {
      "cell_type": "code",
      "source": [
        "numerador = (z  - 0.5)\n",
        "denominador = (z+ 0.5)*(z-1)\n",
        "denominador.expand()\n"
      ],
      "metadata": {
        "colab": {
          "base_uri": "https://localhost:8080/",
          "height": 39
        },
        "id": "8gv_BVqIXOSZ",
        "outputId": "f6d0b0c3-d9ab-4895-9850-6025e1cfaa9c"
      },
      "execution_count": null,
      "outputs": [
        {
          "output_type": "execute_result",
          "data": {
            "text/plain": [
              " 2              \n",
              "z  - 0.5⋅z - 0.5"
            ],
            "text/latex": "$\\displaystyle z^{2} - 0.5 z - 0.5$"
          },
          "metadata": {},
          "execution_count": 4
        }
      ]
    },
    {
      "cell_type": "code",
      "source": [],
      "metadata": {
        "id": "XTQ_sN6-aZ8t"
      },
      "execution_count": null,
      "outputs": []
    }
  ]
}