{
  "nbformat": 4,
  "nbformat_minor": 0,
  "metadata": {
    "colab": {
      "provenance": [],
      "authorship_tag": "ABX9TyN9shKU+zs838YF19WE8PUB",
      "include_colab_link": true
    },
    "kernelspec": {
      "name": "python3",
      "display_name": "Python 3"
    },
    "language_info": {
      "name": "python"
    }
  },
  "cells": [
    {
      "cell_type": "markdown",
      "metadata": {
        "id": "view-in-github",
        "colab_type": "text"
      },
      "source": [
        "<a href=\"https://colab.research.google.com/github/arqMedes/PDS/blob/main/Analise_DT/04_Encontro.ipynb\" target=\"_parent\"><img src=\"https://colab.research.google.com/assets/colab-badge.svg\" alt=\"Open In Colab\"/></a>"
      ]
    },
    {
      "cell_type": "code",
      "execution_count": null,
      "metadata": {
        "id": "_x4EPg0dkX7T"
      },
      "outputs": [],
      "source": []
    },
    {
      "cell_type": "markdown",
      "source": [
        "# Problemas"
      ],
      "metadata": {
        "id": "Tn1ttcIMkc3s"
      }
    },
    {
      "cell_type": "markdown",
      "source": [
        "https://github.com/arqPy/PDS/blob/main/PDS_LATHI_CAP3_EXERC.ipynb"
      ],
      "metadata": {
        "id": "I0djLpTYlT9M"
      }
    },
    {
      "cell_type": "code",
      "source": [],
      "metadata": {
        "id": "gHuYdaaXlVuX"
      },
      "execution_count": null,
      "outputs": []
    }
  ]
}