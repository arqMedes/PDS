{
  "nbformat": 4,
  "nbformat_minor": 0,
  "metadata": {
    "colab": {
      "provenance": [],
      "authorship_tag": "ABX9TyPH7hRB/b5kqvp4lopaeE8j",
      "include_colab_link": true
    },
    "kernelspec": {
      "name": "python3",
      "display_name": "Python 3"
    },
    "language_info": {
      "name": "python"
    }
  },
  "cells": [
    {
      "cell_type": "markdown",
      "metadata": {
        "id": "view-in-github",
        "colab_type": "text"
      },
      "source": [
        "<a href=\"https://colab.research.google.com/github/arqMedes/PDS/blob/main/Analise_DT/04_Encontro.ipynb\" target=\"_parent\"><img src=\"https://colab.research.google.com/assets/colab-badge.svg\" alt=\"Open In Colab\"/></a>"
      ]
    },
    {
      "cell_type": "markdown",
      "source": [
        "# Problemas"
      ],
      "metadata": {
        "id": "Tn1ttcIMkc3s"
      }
    },
    {
      "cell_type": "markdown",
      "source": [
        "1) Conceitue: sistema causal e sistema com memória.\n",
        "\n",
        "**Resposta:**\n",
        "\n",
        "*Um sistema é dito causal se a saída $y[n_0]$ depende de y[n] e/ou x[n] para $n \\leq n_0$  , ou seja, não depende de valores futuros*\n",
        "\n",
        "*Um sistema causal (também chamado de sistema físico ou não antecipativo) é aquele para o qual a saída em qualquer instante n = k depende apenas do valor da entrada x[n] para n ≤ k. Em outras palavras, o valor da saída no instante atual depende apenas do valores atual e passado da entrada x[n], não de seus valores futuros.*\n",
        "\n",
        "*Um sistema é dito com Memória se a  saída corrente y[n] depende de entrada(s) x[n] atual e/ou\n",
        "anteriores, e/ou de saída(s) anterior(es)*\n",
        "\n",
        " *A saída em qualquer instante de um sistema com memória geralmente depende dos valores passados, presentes e futuros da entrada. Por exemplo, y[n] = sen x[n] é um exemplo de um sistema instantâneo e y[n] − y[n − 1] = x[n] é um exemplo de um sistema dinâmico ou sistema com memória.*"
      ],
      "metadata": {
        "id": "5v7Sw2aSDETy"
      }
    },
    {
      "cell_type": "markdown",
      "source": [
        "**2) Demonstre se cada um dos sistemas é Linear e Invariante ao Tempo:**\n",
        "\n",
        "a) $y[n] = -5x[n-10]$\n",
        "\n",
        "*Resposta:*\n",
        "\n",
        "Para uma entrada $x_1[n]$, a saída será $y_1[n]$, isto é:\n",
        "\n",
        "$x_1[n] \\rightarrow y_1[n]=-5x_1[n - 10 ]$\n",
        "\n",
        "Para uma entrada $x_2[n]$, a saída será $y_2[n]$, isto é:\n",
        "\n",
        "$x_2[n] \\rightarrow y_2[n]=5x_2[n - 10 ]$\n",
        "\n",
        "Para que o **sistema seja linear**, dada uma entrada que seja combinação linear de outras entradas, a saída deverá ser combinação linear das saídas correspondentes:\n",
        "\n",
        "$x[n]=ax_1[n] + bx_2[n] \\rightarrow y[n] = -5x[n-10]$\n",
        "\n",
        "$y[n] = -5\\{ax_1[n] + bx_2[n]\\}$\n",
        "\n",
        "$y[n] = -5ax_1[n] - 5bx_2[n]$\n",
        "\n",
        "$y[n] = a(-5x_1[n]) + b(-5x_2[n]) $\n",
        "\n",
        "$y[n] = ay_1[n] + by_2[n]$\n",
        "\n",
        "  $\\therefore$ o sistema é linear\n",
        "\n",
        "Em um sistema  Invariante no Tempo, um deslocamento na entrada provocará o mesmo deslocamento na  saída, analisando este caso:\n",
        "\n",
        "$x_1[n] = x[n] \\rightarrow y_1[n]=-5x[n - 10 ]$\n",
        "\n",
        "$x_2[n] = x[n - d] \\rightarrow y_2[n]=-5x_2[n - 10 ]$\n",
        "\n",
        "$y2[n] = -5x[n - d -10]$\n",
        "\n",
        "$y2[n] = -5x[n-10-d]$\n",
        "\n",
        "$y_2[n] = y_1[n-d]$\n",
        "\n",
        "$\\therefore$ o sistema é Invariane no Tempo\n",
        "\n",
        "\n",
        "-------------------------------------x------------------------------\n",
        "\n",
        "\n",
        "b) $y[n] = 4x[n^2 ]$\n",
        "\n",
        "\n",
        "*Resposta:*\n",
        "\n",
        "$x_1[n] \\rightarrow y_1[n]=4x_1[n^2 ]$\n",
        "\n",
        "$x_2[n] \\rightarrow y_2[n]=4x_2[n^2 ]$\n",
        "\n",
        "$x[n]=ax_1[n] + bx_2[n] \\rightarrow 4x[n^2 ]$\n",
        "\n",
        "$\\rightarrow 4(ax_1[n^2 ] + bx_2[n^2 ])$\n",
        "\n",
        "$\\rightarrow a4x_1[n^2 ] + b4x_2[n^2 ]$\n",
        "\n",
        "$\\rightarrow ay_1[n ] + by_2[n ]$\n",
        "\n",
        "\n",
        "  $\\therefore$ o sistema é linear\n",
        "\n",
        "$x[n] \\rightarrow y[n]=4x[n^2 ]$\n",
        "\n",
        "$x[n - d] \\rightarrow 4x[(n-d)^2 ]$\n",
        "\n",
        "$\\rightarrow 4x[n^2-2n + d^2 ]$, que é diferente de $y[n-d] = 4x[n^2-d]$\n",
        "\n",
        "$\\therefore$ o sistema é Variante"
      ],
      "metadata": {
        "id": "vpeDVsmADFxG"
      }
    },
    {
      "cell_type": "markdown",
      "source": [
        "**3) Demonstre que: “um sinal discreto e o seu inverso deslocado”  possui a mesma energia!**\n",
        "\n",
        "*Resposta:*\n",
        "\n",
        "Seja **E** a energia de um sinal **x[n]**. Então, $E = \\sum_{n=-\\infty}^{\\infty}x^2[n]$\n",
        "\n",
        "A energia de x[-n - d] é dada por $ \\sum_{n=-\\infty}^{\\infty}x^2[-n - d] = \\sum_{m=\\infty}^{-\\infty}x^2[m] = E $, onde m=-n - d\n",
        "\n",
        "Portanto a Energia de um sinal discreto e a do seu inverso deslocado é a MESMA."
      ],
      "metadata": {
        "id": "zqBnWs35DdZ4"
      }
    },
    {
      "cell_type": "markdown",
      "source": [
        "**4) Faça o gráfico do seguinte sinal: u[n - 2] - u[n - 6]**\n",
        "\n",
        "*Resposta:*\n",
        "\n",
        "![](https://github.com/arqPy/PDS/blob/main/PDS/img/porta.png?raw=true)"
      ],
      "metadata": {
        "id": "wznTcM4EDL5M"
      }
    },
    {
      "cell_type": "markdown",
      "source": [
        "**5) Faça o gráfico do seguinte sinal: $(-1)^nu[n]$**\n",
        "\n",
        "*Resposta:*\n",
        "\n",
        "![](https://github.com/arqPy/PDS/blob/main/PDS/img/alternando.png?raw=true)"
      ],
      "metadata": {
        "id": "BVi9JwzZDjTp"
      }
    },
    {
      "cell_type": "markdown",
      "source": [
        "**6) Escreva a equação diferença que relaciona a saída y[n] de uma caixa registradora  de custo total de n itens e a entrada x[n] de custo do n-ésimo item.**\n",
        "\n",
        "*Resposta:*\n",
        "\n",
        "$x[n] = y[n] - y[n-1]$"
      ],
      "metadata": {
        "id": "SD8U_2C2Do5D"
      }
    },
    {
      "cell_type": "markdown",
      "source": [
        "**7) Resolva recursivamente a equação diferença de segunda ordem,$ y[n] =  x[n] - \\frac{1}{4}y[n-1] - \\frac{1}{16}y[n-2]\n",
        "$, assumindo $y[−1] = y[−2] = 0$ e $x[n] = 100u[n]$**\n",
        "\n",
        "*Solução*\n",
        "\n",
        "| n\t| x[n] | y[n-2]\t| y[n-1]\t| y[n] |\n",
        "| --- | ---: | ---: | ---: | ---: |\n",
        "| 0\t| 100\t| 0\t|0\t| 100 |\n",
        "| 1\t| 100\t| 0\t| 100 |\t75 |\n",
        "| 2\t| 100\t| 100 |\t75 |\t75 |"
      ],
      "metadata": {
        "id": "z4lL1m1EDuu6"
      }
    },
    {
      "cell_type": "markdown",
      "source": [
        "**8) Determine a resposta a entrada nula do sistema $y[n+2] - 0.6y[n + 1] - 0.16y[n] = 5x[n+2]$, se as condições iniciais forem $y[−1] = 0$ e $y[−2] = \\frac{25}{4}$.**\n",
        "\n",
        "\n",
        "*Solução*\n",
        "\n",
        "A equação do sistema na notação operacional é\n",
        "<center>\n",
        "$(E^2 - 0.6E - 0.16)y[n] = 0$\n",
        "</center>\n",
        "O polinômio característico é\n",
        "\n",
        "$\\gamma^2 - 0.6\\gamma - 0.16$\n",
        "\n",
        "Cuja equação característica é\n",
        "\n",
        "$\\gamma^2 - 0.6\\gamma - 0.16 = 0$\n",
        "\n",
        "Na forma fatorada:\n",
        "\n",
        "$(\\gamma + 0.2)(\\gamma - 0.8) = 0$\n",
        "\n",
        "As raízes características são $\\gamma_1 = -0.2$ e $\\gamma_2 = 0.8$. Portanto, a resposta de entrada nula é\n",
        "<center>\n",
        "$y[n] = c_1(-0.2)^n + c_2(0.8)^n$ Eq. 1\n",
        "</center>\n",
        "\n",
        "Para determinar as constantes arbitrárias $c_1$ e $c_2$, faz-se n = −1 e n = −2 na Equação original com as condições iniciais y[−1] = 0 e y[−2] = 25/4, obtendo assim:\n",
        "\n",
        "$c_1 = \\frac{1}{5} \\ e \\  c_2 = \\frac{4}{5}$\n",
        "\n",
        "Portanto,\n",
        "\n",
        "<center>\n",
        "$y[n] =  \\frac{1}{5}(-0.2)^n +  \\frac{4}{5}(0.8)^n$\n",
        "</center>"
      ],
      "metadata": {
        "id": "RR0H5zwdDy5G"
      }
    },
    {
      "cell_type": "markdown",
      "source": [
        "**9) Determine a resposta  ao impulso h[n] para o sistema especificado pela seguinte equação: y[n+1] + 2y[n] = x[n]**\n",
        "\n",
        "*Solução:*\n",
        "\n",
        "$h[n+1] + 2h[n]  = \\delta[n]$, **Eq. 1**\n",
        "\n",
        "Onde, 2 é o coeficiente da saída e 1 é o coeficiente da entrada $\\delta[n]$ no instante  n = 0\n",
        "\n",
        "Assim, $A_0= \\frac{1}{2}$\n",
        "\n",
        "$\\therefore \\ h[n] \\ é \\ dado \\ por \\ h[n] = \\frac{1}{2}\\delta[n]+y_c[n]u[n]$\n",
        "\n",
        "Resolvendo $y_c[n]$, encontra-se, neste caso, UM autovalor:\n",
        "\n",
        "$E + 2 = 0 \\Rightarrow E = -2$\n",
        "\n",
        "$\\therefore h[n] = \\frac{1}{2}\\delta[n]+c(-2)^nu[n]$ **Eq. 2**\n",
        "\n",
        "Para determinar o valor da constante, faz-se o uso das condições iniciai, **h[n<0]=0** na **Eq. 1**. Por exemplo para **n = -1**, tem-se:\n",
        "\n",
        "\n",
        "$h[0] + 2h[-1]  = \\delta[-1] \\Rightarrow h[0] + 2x0 = 0 \\Rightarrow h[0] = 0 $, substituindo na Eq. 2\n",
        "\n",
        "\n",
        "$h[0] = \\frac{1}{2}\\delta[0]+c(-2)^0u[0]$\n",
        "\n",
        "$0 = \\frac{1}{2}.1+c1.1 \\Rightarrow c = -\\frac{1}{2}$\n",
        "\n",
        "Finalmente,\n",
        "\n",
        "\n",
        "$h[n] = \\frac{1}{2}\\delta[n]- \\frac{1}{2}(-2)^nu[n]$\n",
        "\n",
        "\n",
        "**10) Determine a resposta  ao impulso h[n] para o sistema especificado pela seguinte equação: $y[n] + 2y[n - 1]  = x[n]$**\n",
        "\n",
        "*Solução:*\n",
        "\n",
        "$h[n] + 2h[n-1]  = \\delta[n]$\n",
        "\n",
        "$h[n+1] + 2h[n]  = \\delta[n+1]$, após o ADIANTO adequado **Eq. 1**\n",
        "\n",
        "Onde, 2 é o coeficiente da saída e 0 é o coeficiente da entrada no instante  n = 0\n",
        "\n",
        "Assim, $A_0= 0$\n",
        "\n",
        "$\\therefore \\ h[n] \\ é \\ dado \\ por \\ h[n] = y_c[n]u[n]$\n",
        "\n",
        "Resolvendo $y_c[n]$, encontra-se, neste caso, UM autovalor:\n",
        "\n",
        "$E + 2 = 0 \\Rightarrow E = -2$\n",
        "\n",
        "$\\therefore h[n] = c(-2)^nu[n]$ **Eq. 2**\n",
        "\n",
        "Para determinar o valor da constante, faz-se o uso das condições iniciai, **h[n<0]=0** na **Eq. 1**. Por exemplo para **n = 0**, tem-se:\n",
        "\n",
        "\n",
        "$h[0] + 2h[-1]  = \\delta[0] \\Rightarrow h[0] + 2x0 = 1 \\Rightarrow h[0] = 1 $, substituindo na Eq. 2\n",
        "\n",
        "$h[0] = c(-2)^0u[0]$\n",
        "\n",
        "$1 = c.1 \\Rightarrow c =1$\n",
        "\n",
        "Finalmente,\n",
        "\n",
        "$h[n] = (-2)^nu[n]$"
      ],
      "metadata": {
        "id": "eOKcxilyD3hC"
      }
    },
    {
      "cell_type": "markdown",
      "source": [
        "https://github.com/arqPy/PDS/blob/main/PDS_LATHI_CAP3_EXERC.ipynb"
      ],
      "metadata": {
        "id": "I0djLpTYlT9M"
      }
    },
    {
      "cell_type": "code",
      "source": [],
      "metadata": {
        "id": "gHuYdaaXlVuX"
      },
      "execution_count": null,
      "outputs": []
    }
  ]
}