{
  "nbformat": 4,
  "nbformat_minor": 0,
  "metadata": {
    "colab": {
      "provenance": [],
      "authorship_tag": "ABX9TyN5vmz8siBvwtcHjdGSPsco",
      "include_colab_link": true
    },
    "kernelspec": {
      "name": "python3",
      "display_name": "Python 3"
    },
    "language_info": {
      "name": "python"
    }
  },
  "cells": [
    {
      "cell_type": "markdown",
      "metadata": {
        "id": "view-in-github",
        "colab_type": "text"
      },
      "source": [
        "<a href=\"https://colab.research.google.com/github/arqMedes/PDS/blob/main/Analise_DT/02_Encontro.ipynb\" target=\"_parent\"><img src=\"https://colab.research.google.com/assets/colab-badge.svg\" alt=\"Open In Colab\"/></a>"
      ]
    },
    {
      "cell_type": "markdown",
      "source": [
        "\n",
        "# Sistemas\n",
        "\n",
        "\n",
        "![](https://github.com/arqMedes/images/blob/main/Figura3-12.png?raw=true)\n",
        "\n",
        "## Classificação de Sistemas\n",
        "\n",
        "\n",
        "LINEARIDADE\n",
        "\n",
        "Se $ x_1[n] → y_1[n] \\ e \\  x_2[n] → y_2[n] $\n",
        "\n",
        "Então, $k_1x_1[n] + k_2x_2[n] → k_1y_1[n] +  k_2y_2[n]$\n",
        "\n",
        "INVARIÂNCIA NO TEMPO\n",
        "\n",
        "$x[n] → y[n] \\ então \\  x[n - N_0] → y[n- N_0]$\n",
        "\n",
        "Exemplos 3.4, 3.5, 3.6 e 3.7 são invariantes no tempo porque os coeficientes nas equações dos sistemas são constantes (independentes de n). Se estes coeficientes fossem funções de n (tempo), então os sistemas seriam lineares variantes no tempo.\n",
        "\n",
        "SISTEMAS CAUSAL E NÃO CAUSAL\n",
        "\n",
        "Um sistema causal (também chamado de sistema físico ou não antecipativo) é aquele para o qual a saída em\n",
        "qualquer instante n = k depende apenas do valor da entrada x[n] para n ≤ k. Em outras palavras, o valor da saí-\n",
        "da no instante atual depende apenas dos valores atual e passado da entrada x[n], não de seus valores futuros.\n",
        "\n",
        "SISTEMAS INVERSÍVEIS E NÃO INVERSÍVEIS\n",
        "\n",
        "Um sistema discreto S é inversível se um sistema inverso $S\n",
        "_i$ existir tal que a cascata de S com $S_i$ resultar em um sistema identidade. Um sistema identidade é definido como sendo aquele cuja saída é idêntica à entrada.\n",
        "\n",
        "\n",
        "SISTEMAS ESTÁVEL E INSTÁVEL\n",
        "\n",
        "O conceito de estabilidade é similar ao de sistemas contínuos no tempo. A estabilidade pode ser interna ou externa. Se cada entrada limitada aplicada ao terminal de entrada resultar em uma saída limitada, o sistema é dito ser externamente estável. A estabilidade externa pode ser verificada por medições nos terminais externos do sistema. Esse tipo de estabilidade é conhecido como estabilidade BIBO (bounded-input/bounded-output).\n",
        "\n",
        "SISTEMAS SEM MEMÓRIA E COM MEMÓRIA\n",
        "\n",
        "Os conceitos de sistema sem memória (ou instantâneo) e sistemas com memória (ou dinâmicos) são idênticos\n",
        "aos conceitos correspondentes para o caso de sistemas contínuos no tempo. Um sistema é sem memória se sua\n",
        "resposta a qualquer instante n depender no máximo da entrada no mesmo instante n. A saída em qualquer instante de um sistema com memória geralmente depende dos valores passados, presentes e futuros da entrada. Por\n",
        "exemplo, $y[n] = sen( x[n])$ é um exemplo de um sistema instantâneo e $y[n] − y[n − 1] = x[n]$ é um exemplo de\n",
        "um sistema dinâmico ou sistema com memória.\n"
      ],
      "metadata": {
        "id": "jIx6Ntu1iTgt"
      }
    },
    {
      "cell_type": "markdown",
      "source": [
        "# Equações de Sistemas em TD\n",
        "\n",
        "EQUAÇÕES DIFERENÇA\n",
        "\n",
        "A equação diferença pode ser escrita em duas\n",
        "formas: a primeira forma usa termos em atraso tais como\n",
        "\n",
        "$y[n − 1], \\ y[n − 2], \\ x[n − 1], \\ x[n − 2]$ e assim por\n",
        "diante e a forma alternativa utiliza termos em avanço. tais como\n",
        "\n",
        "$y[n + 1] \\ , y[n + 2]$ e assim por diante. Apesar\n",
        "da forma em atraso ser mais natural, geralmente preferiremos a forma em avanço, não somente por conveniência de notação, mas principalmente por resultar em uniformidade de notação com a forma operacional para\n",
        "equações diferenciais, facilitando a generalização de soluções e conceitos para sistemas em tempo contínuo e\n",
        "em tempo discreto.\n",
        "\n",
        "![](https://github.com/arqMedes/images/blob/main/Eq_dif.png?raw=true)\n",
        "\n",
        "Exemplo 3.8:\n",
        "\n",
        "Resolver interativamente\n",
        "\n",
        "$y[n] - 0.5y[n-1] = x[n]$"
      ],
      "metadata": {
        "id": "h5odslb_fZ1k"
      }
    },
    {
      "cell_type": "code",
      "source": [
        "import numpy as np\n",
        "import matplotlib.pyplot as plt"
      ],
      "metadata": {
        "id": "ZbZU-TkhYoSv"
      },
      "execution_count": null,
      "outputs": []
    },
    {
      "cell_type": "code",
      "execution_count": null,
      "metadata": {
        "id": "9QRMSrsLiO-K",
        "colab": {
          "base_uri": "https://localhost:8080/",
          "height": 447
        },
        "outputId": "3ce10f2c-442f-42e3-e403-1397610d54e5"
      },
      "outputs": [
        {
          "output_type": "execute_result",
          "data": {
            "text/plain": [
              "<StemContainer object of 3 artists>"
            ]
          },
          "metadata": {},
          "execution_count": 16
        },
        {
          "output_type": "display_data",
          "data": {
            "text/plain": [
              "<Figure size 640x480 with 1 Axes>"
            ],
            "image/png": "[encoded data removed]"
          },
          "metadata": {}
        }
      ],
      "source": [
        "# Resolver a equação diferença interativamente\n",
        "# y[n] - 0.5y[n-1] = x[n]\n",
        "# y[-1] = 16\n",
        "\n",
        "n = np.arange(-1,5) #base de tempo\n",
        "x = n*n # para n >= 0\n",
        "x[n==-1] = 0\n",
        "y = np.zeros(n.shape)\n",
        "y[n==-1]= 16 # condição inicial\n",
        "\n",
        "for k in n:\n",
        "  if (k > -1):\n",
        "    y[n==k ] = 0.5*y[n==k-1] + x[n==k]\n",
        "\n",
        "plt.stem(n[n>0], y[n>0])"
      ]
    },
    {
      "cell_type": "code",
      "source": [
        "# Resolver a equação diferença interativamente\n",
        "# y[n+1] - 2y[n] = x[n]\n",
        "# y[-1] = 10\n",
        "\n",
        "n = np.arange(-1,5) #base de tempo\n",
        "x = 2*np.ones(n.shape)\n",
        "x[n==-1] = 0\n",
        "y = np.zeros(n.shape)\n",
        "y[n==-1]= 10 # condição inicial\n",
        "\n",
        "for k in n:\n",
        "    y[n==k+1 ] = 2*y[n==k] + x[n==k]\n",
        "\n",
        "fig, ax = plt.subplots()  # inicializa Figure e Axes\n",
        "#ax.plot(n, y, marker='o')\n",
        "for n1, y1 in zip(n, y):  # adiciona um texto para cada ponto XY\n",
        "    ax.text(n1-0.5, y1+0.2, y1)\n",
        "plt.stem(n, y)\n",
        "\n"
      ],
      "metadata": {
        "colab": {
          "base_uri": "https://localhost:8080/",
          "height": 447
        },
        "id": "NtPTK4TFa7ZS",
        "outputId": "87fabb8a-6b67-4ecb-d9b8-6bd65badcf68"
      },
      "execution_count": null,
      "outputs": [
        {
          "output_type": "execute_result",
          "data": {
            "text/plain": [
              "<StemContainer object of 3 artists>"
            ]
          },
          "metadata": {},
          "execution_count": 24
        },
        {
          "output_type": "display_data",
          "data": {
            "text/plain": [
              "<Figure size 640x480 with 1 Axes>"
            ],
            "image/png": "[encoded data removed]"
          },
          "metadata": {}
        }
      ]
    },
    {
      "cell_type": "markdown",
      "source": [
        "# Resposta do Sistema à Condições Internas\n",
        "\n",
        "NOTAÇÃO OPERACIONAL\n",
        "\n",
        "Em equações diferença é conveniente utilizar a notação operacional similar a utilizada em equações diferenciais\n",
        "para efeito de compactação. Em sistemas contínuos no tempo, usamos o operador D para representar a operação\n",
        "diferenciação. Para sistemas em tempo discreto utilizaremos o operador E para representar a operação de avanço da seqüência por uma unidade de tempo.\n",
        "\n",
        "Exemplo\n",
        "\n",
        "$y[n+1] - 2y[n] = x[n]$, sendo $y[-1]=10$ e $x[n]=2, \\ para \\ n ≥0$\n",
        "\n",
        "$(E-2)y[n]= 0$, Resposta à Entrada Nula\n",
        "\n",
        "Polinônimio Característico\n",
        "\n",
        "$λ-2=0 \\Rightarrow λ=2 $\n",
        "\n",
        "Assim $ y[n]=c (2)^n $, determina-se a constante usando a condição inicial:\n",
        "\n",
        "$y[-1]=c(2^{-1}) = 10 ⇒ c= 20$.\n",
        "\n",
        "$\\therefore y[n]=20 (2)^n + x[n]$ , para n>-1\n"
      ],
      "metadata": {
        "id": "sZCSLGZgWX7b"
      }
    },
    {
      "cell_type": "markdown",
      "source": [
        "# RESPOSTA AO IMPULSO UNITÁRIO ($h[n]$)\n",
        "\n",
        "![](https://github.com/arqMedes/images/blob/main/h_de_n-01.png?raw=true)\n",
        "\n",
        "$y[n] - 0.6y[n-1] -0.16y[n-2]=5x[n]$, calcule a resposta ao impulso sujeita ao estado inicial nulo: $h[-1]=h[-2]=0$\n",
        "\n",
        "### Programa abaixo"
      ],
      "metadata": {
        "id": "xZDJ1iegsdYv"
      }
    },
    {
      "cell_type": "code",
      "source": [
        "# Resolver a equação diferença interativamente\n",
        "# h[n] - 0.6h[n-1] -0.16h[n-2]=5delta[n]\n",
        "# h[-2] = h[-1] = 0\n",
        "\n",
        "n = np.arange(-2,5) #base de tempo\n",
        "delta = (n == 0)*1\n",
        "h = np.zeros(n.shape)\n",
        "# condição inicial\n",
        "\n",
        "for k in n:\n",
        "    h[n==k+2 ] = 0.6*h[n==k+1] +  0.16*h[n==k] + 5*delta[n==k+2]\n",
        "\n",
        "fig, ax = plt.subplots()  # inicializa Figure e Axes\n",
        "\n",
        "for n1, y1 in zip(n, h):  # adiciona um texto para cada ponto XY\n",
        "    ax.text(n1-0.5, y1+0.2, y1)\n",
        "plt.stem(n, h)\n"
      ],
      "metadata": {
        "colab": {
          "base_uri": "https://localhost:8080/",
          "height": 454
        },
        "id": "zytUer6juZ0l",
        "outputId": "43fb39cb-2810-4fb5-cba4-2b7f7ea99554"
      },
      "execution_count": null,
      "outputs": [
        {
          "output_type": "execute_result",
          "data": {
            "text/plain": [
              "<StemContainer object of 3 artists>"
            ]
          },
          "metadata": {},
          "execution_count": 10
        },
        {
          "output_type": "display_data",
          "data": {
            "text/plain": [
              "<Figure size 640x480 with 1 Axes>"
            ],
            "image/png": "[encoded data removed]"
          },
          "metadata": {}
        }
      ]
    },
    {
      "cell_type": "markdown",
      "source": [
        "# Exercícios\n",
        "\n",
        "\n",
        "# Resposta do Sistema à Condições Externas\n",
        "\n",
        "Exemplo de h resposta fechada"
      ],
      "metadata": {
        "id": "UhhmS1WlifgS"
      }
    },
    {
      "cell_type": "code",
      "source": [],
      "metadata": {
        "id": "hoqlrXJxiSaM"
      },
      "execution_count": null,
      "outputs": []
    }
  ]
}