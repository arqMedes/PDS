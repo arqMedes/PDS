{
  "nbformat": 4,
  "nbformat_minor": 0,
  "metadata": {
    "colab": {
      "provenance": [],
      "authorship_tag": "ABX9TyNRvfwNk/den6JJl0F3AmN4",
      "include_colab_link": true
    },
    "kernelspec": {
      "name": "python3",
      "display_name": "Python 3"
    },
    "language_info": {
      "name": "python"
    }
  },
  "cells": [
    {
      "cell_type": "markdown",
      "metadata": {
        "id": "view-in-github",
        "colab_type": "text"
      },
      "source": [
        "<a href=\"https://colab.research.google.com/github/arqMedes/PDS/blob/main/Analise_DT/03_Encontro.ipynb\" target=\"_parent\"><img src=\"https://colab.research.google.com/assets/colab-badge.svg\" alt=\"Open In Colab\"/></a>"
      ]
    },
    {
      "cell_type": "markdown",
      "source": [
        "# Convolução\n",
        "\n",
        "![](https://univirtus.uninter.com/ava/repositorio/SistemaRepositorioPublico/?id=JcbQ9MzjileoVGF47aHO9pkxuJTS96JUW95lNRVs+2n2ZIMcBQX7C0jC+eopJg8ogr5ryq+OmkQ1N9Jcq8HXqN+t9rWcgGY91XIhm3wi1a9ziBk/jHALoVNLErTr1RtEVlrTFASCrY44nz8M9Te5Gg==)\n",
        "Livro Texto, página 259\n",
        "\n",
        "$$x[n]=\\sum_{k=-∞}^∞ x[k]δ[n-k] \\ \\ SLIT \\\\ y[n]=\\sum_{k=-∞}^∞ x[k]h[n-k] $$\n",
        " O somatório do lado direito é chamado de somatório de convolução de x[n] e h[n], sendo simbolicamente representado por x[n] * h[n]\n",
        "\n",
        "$$y[n]=\\sum_{k=-∞}^∞ x[k]h[n-k] \\ \\ Eq. (3.56)$$\n",
        "\n",
        " 1. Propriedade comutativa\n",
        " 2. Propriedade distributiva\n",
        " 3. Propriedade associativa\n",
        " 4. Propriedade de deslocamento\n",
        "\n",
        "## Método Gráfico\n",
        "\n",
        "\n",
        "<img src=\"https://raw.githubusercontent.com/arqMedes/images/refs/heads/main/Fig3-17.png\" alt=\"Smiley face\" width=\"5200\" align=\"bottom\">\n",
        "\n",
        " Inicialmente, obtemos o gráfico de x[m] e g[n − m] como funções de m (e não de n), pois o somatório ocorre em m. As funções x[m] e g[m] são as mesmas de x[n] e g[n], traçadas respectivamente como funções de m (veja Fig.3.17). A operação de convolução pode ser executada da seguinte forma:\n",
        " 1. Inverta g[m] com relação ao eixo vertical (m = 0) para obter g[−m] (Fig. 3.17d). A Fig. 3.17e mostra tanto x[m] quanto g[−m].\n",
        " 2. Desloque g[−m] por n unidades para obter g[n − m]. Para n > 0, o deslocamento é para a direita (atraso), para n < 0, o deslocamento é para a esquerda (avanço). A Fig. 3.17f mostra g[n − m] para n > 0, para n < 0 veja a Fig 3.17g.\n",
        " 3. A seguir multiplique x[m] com g[n − m] e some todos os produtos para obter c[n]. O procedimento é repetido para cada valor de n na faixa de −∞ a ∞\n",
        "\n",
        "\n",
        "\n",
        "\n",
        "\n",
        "\n",
        "\n"
      ],
      "metadata": {
        "id": "DE_DElaTj5-_"
      }
    },
    {
      "cell_type": "markdown",
      "source": [
        "Na determinação da Eq. (3.56), consideramos que o sistema é linear e invariante no tempo. Não existem outras restrições tanto ao sinal de entrada quanto ao sistema. Em nossas aplicações, quase todos os sinais de entrada são causais e a maioria dos sistemas também é causal. Estas restrições simplificam ainda mais os limites do somatório da Eq. (3.56). Se a entrada x[n] for causal, x[m] = 0 para m < 0. Similarmente, se o sistema for causal (isto é, se h[n] for causal), então h[x] = 0 para x negativo, tal que h[n − m] = 0 quando m > n. Portanto, se x[n] e h[n] forem causais, o produto x[m]h[n − m] = 0 quando m < 0 e para m > n e não nulo apenas para a faixa 0 ≤ m ≤n. Portanto, a Eq. (3.56) neste caso se reduz para\n",
        "\n",
        "$$y[n]=\\sum_{k=0}^n x[k]h[n-k] \\ \\ Eq. (3.63)$$"
      ],
      "metadata": {
        "id": "3rOgR7SVURdf"
      }
    },
    {
      "cell_type": "markdown",
      "source": [
        "3.8-1 Determine a resposta (estado nulo) y[n] do sistema LDIT cuja resposta ao impulso é $h[n] = (-2)^nu[n-1]$ e a entrada é $x[n] = e^{−n}u[n + 1]$.\n",
        "\n",
        "*Solução*\n",
        "\n",
        " Como\n",
        " 1. $𝑥[𝑘]≠0 \\ para \\ 𝑘 +1 ≥ 0 \\Rightarrow k \\ge −1$, e\n",
        " 2. $h[k] \\ne 0$ para $k \\ge 1$. Assim, $h[n-k] \\ne 0$ para $n-k \\ge 1 \\Rightarrow k \\le n−1$\n",
        ", então os limites da soma se reduzem a:\n",
        "\n",
        "![](https://github.com/arqMedes/images/blob/main/conv_381.jpeg?raw=true)\n",
        "\n",
        "Outra maneira\n",
        " 1. $h[𝑘]≠0 \\ para \\ 𝑘 -1 ≥ 0 \\Rightarrow k \\ge 1$, e\n",
        " 2. $x[k] \\ne 0$ para $k \\ge -1$. Assim, $h[n-k] \\ne 0$ para $n-k \\ge -1 \\Rightarrow k \\le n+1$\n",
        ", então os limites da soma se reduzem a:\n",
        "$$1 \\le k \\le n+1$$\n",
        "$$y[n]=\\sum_{k=1}^{n+1} h[k]x[n-k] \\\\ y[n]=\\sum_{k=1}^{n+1}(-2)^ke^{-n+k} \\\\ y[n]=e^{-n}\\sum_{k=1}^{n+1}(-2e)^k $$\n",
        "\n",
        "Usando a fórmula:\n",
        "\n",
        "![](https://github.com/arqMedes/images/blob/main/somatorioPG.jpeg?raw=true)\n",
        "\n",
        "$$ y[n]=e^{-n}\\frac{(-2e)^{n+2}-(-2e)}{(-2e)-1} \\\\ y[n] =\\frac{e^{-n}(-2e)}{-2e-1}[(-2e)^{n+1}-1] $$\n",
        "\n",
        "$$y[n] =\\frac{2e^{-n+1}}{2e+1}[(-2e)^{n+1}-1] \\frac{e^{n+1}}{e^{n+1}} \\\\ y[n]=\\frac{2e^2}{2e+1}[(-2)^{n+1}-e^{-(n+1)}]$$\n"
      ],
      "metadata": {
        "id": "AHNG3VADWBg3"
      }
    },
    {
      "cell_type": "code",
      "source": [
        "from IPython.display import Image, display\n",
        "\n",
        "imagem = Image(url=\"https://raw.githubusercontent.com/arqMedes/images/refs/heads/main/Fig3-17.png\", width=1300)\n",
        "display(imagem)"
      ],
      "metadata": {
        "colab": {
          "base_uri": "https://localhost:8080/",
          "height": 1000
        },
        "id": "YSHtkhyKVfcv",
        "outputId": "771a9bdb-131e-4e0b-88da-b580d3d3d45d"
      },
      "execution_count": null,
      "outputs": [
        {
          "output_type": "display_data",
          "data": {
            "text/html": [
              "<img src=\"https://raw.githubusercontent.com/arqMedes/images/refs/heads/main/Fig3-17.png\" width=\"1300\"/>"
            ],
            "text/plain": [
              "<IPython.core.display.Image object>"
            ]
          },
          "metadata": {}
        }
      ]
    },
    {
      "cell_type": "markdown",
      "source": [
        "# Método\n",
        "\n",
        "![](https://github.com/arqMedes/images/blob/main/Figura3-18.png?raw=true)"
      ],
      "metadata": {
        "id": "dFcdKdpde460"
      }
    },
    {
      "cell_type": "code",
      "source": [
        "import numpy as np\n",
        "import matplotlib.pyplot as plt"
      ],
      "metadata": {
        "id": "TrUnIHJTYbDb"
      },
      "execution_count": null,
      "outputs": []
    },
    {
      "cell_type": "markdown",
      "source": [
        "# Exercícios"
      ],
      "metadata": {
        "id": "zed8wOH7kBME"
      }
    },
    {
      "cell_type": "code",
      "source": [
        "def entrada(n):\n",
        "  x = np.zeros(n.shape)\n",
        "  x[n==0] = 2\n",
        "  x[n==1] = 1\n",
        "  return x\n",
        "\n",
        "def respImpulso(n):\n",
        "  h = np.zeros(n.shape)\n",
        "  h[n==0] = 1\n",
        "  h[n==1] = 1\n",
        "  return h\n"
      ],
      "metadata": {
        "id": "GQGuISljYwkj"
      },
      "execution_count": null,
      "outputs": []
    },
    {
      "cell_type": "code",
      "execution_count": null,
      "metadata": {
        "id": "shJfEhFcj4qU",
        "colab": {
          "base_uri": "https://localhost:8080/",
          "height": 512
        },
        "outputId": "82abcd43-5f7b-4de3-ff39-c5fb979f4899"
      },
      "outputs": [
        {
          "output_type": "execute_result",
          "data": {
            "text/plain": [
              "Text(0.5, 1.0, '$h[n0 -k]  (n_0 > 0)$')"
            ]
          },
          "metadata": {},
          "execution_count": 24
        },
        {
          "output_type": "display_data",
          "data": {
            "text/plain": [
              "<Figure size 500x500 with 4 Axes>"
            ],
            "image/png": "[encoded data removed]"
          },
          "metadata": {}
        }
      ],
      "source": [
        "# convolução\n",
        "# y[n] = x[n] * h[n]\n",
        "\n",
        "n= np.arange(-5, 5)\n",
        "n0 = -3 # deslocamento\n",
        "\n",
        "x = entrada(n)\n",
        "h = respImpulso(n0 -n)\n",
        "\n",
        "fig, axs = plt.subplots(4)\n",
        "fig.set_size_inches(5, 5)\n",
        "fig.subplots_adjust(hspace=1.5)\n",
        "fig.suptitle('Convolução $x[n]*h[n]$ ')\n",
        "\n",
        "axs[0].stem(n, x)\n",
        "axs[0].set_title(\"$x[k]$\")\n",
        "\n",
        "axs[1].stem(n, h)\n",
        "axs[1].set_title(\"$h[n0 -k] (n_0 < 0)$\")\n",
        "\n",
        "h = respImpulso(-n)\n",
        "axs[2].stem(n, h)\n",
        "axs[2].set_title(\"$h[n0 -k]  (n_0 = 0)$\")\n",
        "\n",
        "h = respImpulso(-n0 -n)\n",
        "axs[3].stem(n, h)\n",
        "axs[3].set_title(\"$h[n0 -k]  (n_0 > 0)$\")"
      ]
    },
    {
      "cell_type": "code",
      "source": [],
      "metadata": {
        "id": "kpf_Q7uscPrR"
      },
      "execution_count": null,
      "outputs": []
    }
  ]
}